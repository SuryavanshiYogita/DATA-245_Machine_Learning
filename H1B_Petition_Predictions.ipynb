{
 "cells": [
  {
   "cell_type": "markdown",
   "metadata": {},
   "source": [
    "# H1B Petition Raw Data Loading"
   ]
  },
  {
   "cell_type": "code",
   "execution_count": 58,
   "metadata": {},
   "outputs": [
    {
     "name": "stdout",
     "output_type": "stream",
     "text": [
      "Once deleted, variables cannot be recovered. Proceed (y/[n])? y\n"
     ]
    }
   ],
   "source": [
    "%reset"
   ]
  },
  {
   "cell_type": "code",
   "execution_count": 60,
   "metadata": {},
   "outputs": [],
   "source": [
    "#importing all the packages required for analysis\n",
    "import pandas as pd\n",
    "import numpy as np\n",
    "from sklearn import tree\n",
    "from sklearn import svm\n",
    "import sklearn.metrics as metrics\n",
    "from sklearn import preprocessing\n",
    "import sklearn.linear_model as linear_model\n",
    "from sklearn.ensemble import RandomForestClassifier\n",
    "from sklearn.neural_network import MLPClassifier\n",
    "from sklearn.naive_bayes import GaussianNB\n",
    "from sklearn.feature_selection import RFE\n",
    "from sklearn.linear_model import LogisticRegression\n",
    "from sklearn.model_selection import train_test_split\n",
    "import matplotlib.pyplot as plt\n",
    "import difflib as dff\n",
    "%matplotlib inline"
   ]
  },
  {
   "cell_type": "code",
   "execution_count": 61,
   "metadata": {},
   "outputs": [
    {
     "name": "stdout",
     "output_type": "stream",
     "text": [
      "H1B_Cleaned_data.csv\n"
     ]
    }
   ],
   "source": [
    "## import the data fill\n",
    "input_file = \"H1B_Cleaned_data.csv\"\n",
    "print(input_file)"
   ]
  },
  {
   "cell_type": "code",
   "execution_count": 62,
   "metadata": {},
   "outputs": [],
   "source": [
    "## read the data file into a dataframe\n",
    "dataframe1 = pd.read_table(input_file, encoding=\"ISO-8859-1\", sep = ',')"
   ]
  },
  {
   "cell_type": "code",
   "execution_count": 63,
   "metadata": {},
   "outputs": [
    {
     "data": {
      "text/plain": [
       "2068225"
      ]
     },
     "execution_count": 63,
     "metadata": {},
     "output_type": "execute_result"
    }
   ],
   "source": [
    "pd.set_option('display.max_colwidth', None)\n",
    "pd.options.mode.chained_assignment = None\n",
    "len(dataframe1)"
   ]
  },
  {
   "cell_type": "code",
   "execution_count": 64,
   "metadata": {},
   "outputs": [
    {
     "data": {
      "text/plain": [
       "Key                   False\n",
       "CASE_STATUS            True\n",
       "EMPLOYER_NAME          True\n",
       "SOC_NAME               True\n",
       "JOB_TITLE              True\n",
       "FULL_TIME_POSITION     True\n",
       "PREVAILING_WAGE        True\n",
       "YEAR                   True\n",
       "WORKSITE              False\n",
       "CITY                   True\n",
       "COUNTRY                True\n",
       "lon                    True\n",
       "lat                    True\n",
       "dtype: bool"
      ]
     },
     "execution_count": 64,
     "metadata": {},
     "output_type": "execute_result"
    }
   ],
   "source": [
    "dataframe1.isnull().any()\n",
    "#u_emp=dataframe1.EMPLOYER_NAME.unique()"
   ]
  },
  {
   "cell_type": "code",
   "execution_count": 65,
   "metadata": {},
   "outputs": [],
   "source": [
    "#print(dataframe1.loc[dataframe1['Key']==737430])\n",
    "#values=dataframe1['EMPLOYER_NAME'].isnull().values.any(axis=1)\n",
    "#print(values)\n",
    "#pd.set_option(\"display.max_rows\", None, \"display.max_columns\", None)\n",
    "#df=dataframe1[dataframe1.isnull().any(axis=1)]\n",
    "#print(df[['Key','EMPLOYER_NAME']])\n",
    "dataframe1.dropna(subset=['EMPLOYER_NAME','SOC_NAME','JOB_TITLE','COUNTRY'], inplace=True)"
   ]
  },
  {
   "cell_type": "code",
   "execution_count": 66,
   "metadata": {},
   "outputs": [
    {
     "data": {
      "text/plain": [
       "2052232"
      ]
     },
     "execution_count": 66,
     "metadata": {},
     "output_type": "execute_result"
    }
   ],
   "source": [
    "len(dataframe1)"
   ]
  },
  {
   "cell_type": "code",
   "execution_count": 67,
   "metadata": {},
   "outputs": [
    {
     "data": {
      "text/plain": [
       "Key                   False\n",
       "CASE_STATUS           False\n",
       "EMPLOYER_NAME         False\n",
       "SOC_NAME              False\n",
       "JOB_TITLE             False\n",
       "FULL_TIME_POSITION     True\n",
       "PREVAILING_WAGE        True\n",
       "YEAR                  False\n",
       "WORKSITE              False\n",
       "CITY                   True\n",
       "COUNTRY               False\n",
       "lon                    True\n",
       "lat                    True\n",
       "dtype: bool"
      ]
     },
     "execution_count": 67,
     "metadata": {},
     "output_type": "execute_result"
    }
   ],
   "source": [
    "dataframe1.isnull().any()"
   ]
  },
  {
   "cell_type": "code",
   "execution_count": 68,
   "metadata": {},
   "outputs": [
    {
     "data": {
      "text/html": [
       "<div>\n",
       "<style scoped>\n",
       "    .dataframe tbody tr th:only-of-type {\n",
       "        vertical-align: middle;\n",
       "    }\n",
       "\n",
       "    .dataframe tbody tr th {\n",
       "        vertical-align: top;\n",
       "    }\n",
       "\n",
       "    .dataframe thead th {\n",
       "        text-align: right;\n",
       "    }\n",
       "</style>\n",
       "<table border=\"1\" class=\"dataframe\">\n",
       "  <thead>\n",
       "    <tr style=\"text-align: right;\">\n",
       "      <th></th>\n",
       "      <th>Key</th>\n",
       "      <th>PREVAILING_WAGE</th>\n",
       "      <th>YEAR</th>\n",
       "      <th>lon</th>\n",
       "      <th>lat</th>\n",
       "    </tr>\n",
       "  </thead>\n",
       "  <tbody>\n",
       "    <tr>\n",
       "      <th>count</th>\n",
       "      <td>2.052232e+06</td>\n",
       "      <td>2.052173e+06</td>\n",
       "      <td>2.052232e+06</td>\n",
       "      <td>1.956704e+06</td>\n",
       "      <td>1.956704e+06</td>\n",
       "    </tr>\n",
       "    <tr>\n",
       "      <th>mean</th>\n",
       "      <td>1.558976e+06</td>\n",
       "      <td>1.796561e+05</td>\n",
       "      <td>2.013742e+03</td>\n",
       "      <td>-9.230948e+01</td>\n",
       "      <td>3.809973e+01</td>\n",
       "    </tr>\n",
       "    <tr>\n",
       "      <th>std</th>\n",
       "      <td>8.694408e+05</td>\n",
       "      <td>6.341975e+06</td>\n",
       "      <td>1.700149e+00</td>\n",
       "      <td>1.843172e+01</td>\n",
       "      <td>4.613887e+00</td>\n",
       "    </tr>\n",
       "    <tr>\n",
       "      <th>min</th>\n",
       "      <td>1.000000e+00</td>\n",
       "      <td>0.000000e+00</td>\n",
       "      <td>2.011000e+03</td>\n",
       "      <td>-1.578583e+02</td>\n",
       "      <td>1.820135e+01</td>\n",
       "    </tr>\n",
       "    <tr>\n",
       "      <th>25%</th>\n",
       "      <td>7.830188e+05</td>\n",
       "      <td>5.403840e+04</td>\n",
       "      <td>2.012000e+03</td>\n",
       "      <td>-1.119261e+02</td>\n",
       "      <td>3.417056e+01</td>\n",
       "    </tr>\n",
       "    <tr>\n",
       "      <th>50%</th>\n",
       "      <td>1.591692e+06</td>\n",
       "      <td>6.606100e+04</td>\n",
       "      <td>2.014000e+03</td>\n",
       "      <td>-8.615807e+01</td>\n",
       "      <td>3.905582e+01</td>\n",
       "    </tr>\n",
       "    <tr>\n",
       "      <th>75%</th>\n",
       "      <td>2.314896e+06</td>\n",
       "      <td>8.374100e+04</td>\n",
       "      <td>2.015000e+03</td>\n",
       "      <td>-7.553979e+01</td>\n",
       "      <td>4.086529e+01</td>\n",
       "    </tr>\n",
       "    <tr>\n",
       "      <th>max</th>\n",
       "      <td>3.002444e+06</td>\n",
       "      <td>6.997607e+09</td>\n",
       "      <td>2.016000e+03</td>\n",
       "      <td>-6.610574e+01</td>\n",
       "      <td>6.483778e+01</td>\n",
       "    </tr>\n",
       "  </tbody>\n",
       "</table>\n",
       "</div>"
      ],
      "text/plain": [
       "                Key  PREVAILING_WAGE          YEAR           lon           lat\n",
       "count  2.052232e+06     2.052173e+06  2.052232e+06  1.956704e+06  1.956704e+06\n",
       "mean   1.558976e+06     1.796561e+05  2.013742e+03 -9.230948e+01  3.809973e+01\n",
       "std    8.694408e+05     6.341975e+06  1.700149e+00  1.843172e+01  4.613887e+00\n",
       "min    1.000000e+00     0.000000e+00  2.011000e+03 -1.578583e+02  1.820135e+01\n",
       "25%    7.830188e+05     5.403840e+04  2.012000e+03 -1.119261e+02  3.417056e+01\n",
       "50%    1.591692e+06     6.606100e+04  2.014000e+03 -8.615807e+01  3.905582e+01\n",
       "75%    2.314896e+06     8.374100e+04  2.015000e+03 -7.553979e+01  4.086529e+01\n",
       "max    3.002444e+06     6.997607e+09  2.016000e+03 -6.610574e+01  6.483778e+01"
      ]
     },
     "execution_count": 68,
     "metadata": {},
     "output_type": "execute_result"
    }
   ],
   "source": [
    "dataframe1.describe()"
   ]
  },
  {
   "cell_type": "markdown",
   "metadata": {},
   "source": [
    "# Preliminary Data Analysis and Preprocessing"
   ]
  },
  {
   "cell_type": "markdown",
   "metadata": {},
   "source": [
    "Analaysis #1 "
   ]
  },
  {
   "cell_type": "code",
   "execution_count": 69,
   "metadata": {},
   "outputs": [
    {
     "data": {
      "image/png": "[encoded data removed]",
      "text/plain": [
       "<Figure size 576x504 with 1 Axes>"
      ]
     },
     "metadata": {
      "needs_background": "light"
     },
     "output_type": "display_data"
    },
    {
     "name": "stdout",
     "output_type": "stream",
     "text": [
      "CERTIFIED                                             1729447\n",
      "CERTIFIED-WITHDRAWN                                    162079\n",
      "DENIED                                                  83401\n",
      "WITHDRAWN                                               77287\n",
      "PENDING QUALITY AND COMPLIANCE REVIEW - UNASSIGNED         15\n",
      "REJECTED                                                    2\n",
      "INVALIDATED                                                 1\n",
      "Name: CASE_STATUS, dtype: int64\n"
     ]
    }
   ],
   "source": [
    "# Plotting a graph case status against Number of petition\n",
    "Status_petition_plot = dataframe1['CASE_STATUS'].value_counts().plot(title = 'Number of petitions vs Petition Case Status \\n',kind = 'bar', fontsize=12, color = 'purple',linewidth=2.0, figsize = (8, 7))\n",
    "Status_petition_plot.set_ylabel(\"Petition case status\\n\", fontsize=14)\n",
    "Status_petition_plot.set_xlabel(\"\\n # of petitions\\n\", fontsize=14)\n",
    "# Plots the graph\n",
    "\n",
    "for p in Status_petition_plot.patches:\n",
    "    Status_petition_plot.annotate(str(p.get_height()), (p.get_x() * 1.0050, p.get_height() * 1.005))\n",
    "plt.show()\n",
    "# Display the table\n",
    "print(dataframe1['CASE_STATUS'].value_counts())"
   ]
  },
  {
   "cell_type": "code",
   "execution_count": 70,
   "metadata": {},
   "outputs": [
    {
     "data": {
      "text/html": [
       "<div>\n",
       "<style scoped>\n",
       "    .dataframe tbody tr th:only-of-type {\n",
       "        vertical-align: middle;\n",
       "    }\n",
       "\n",
       "    .dataframe tbody tr th {\n",
       "        vertical-align: top;\n",
       "    }\n",
       "\n",
       "    .dataframe thead th {\n",
       "        text-align: right;\n",
       "    }\n",
       "</style>\n",
       "<table border=\"1\" class=\"dataframe\">\n",
       "  <thead>\n",
       "    <tr style=\"text-align: right;\">\n",
       "      <th></th>\n",
       "      <th>Key</th>\n",
       "      <th>CASE_STATUS</th>\n",
       "      <th>EMPLOYER_NAME</th>\n",
       "      <th>SOC_NAME</th>\n",
       "      <th>JOB_TITLE</th>\n",
       "      <th>FULL_TIME_POSITION</th>\n",
       "      <th>PREVAILING_WAGE</th>\n",
       "      <th>YEAR</th>\n",
       "      <th>WORKSITE</th>\n",
       "      <th>CITY</th>\n",
       "      <th>COUNTRY</th>\n",
       "      <th>lon</th>\n",
       "      <th>lat</th>\n",
       "    </tr>\n",
       "  </thead>\n",
       "  <tbody>\n",
       "    <tr>\n",
       "      <th>18</th>\n",
       "      <td>19</td>\n",
       "      <td>CERTIFIED</td>\n",
       "      <td>QUICKLOGIXLLC</td>\n",
       "      <td>CHIEF EXECUTIVES</td>\n",
       "      <td>CEO</td>\n",
       "      <td>Y</td>\n",
       "      <td>187200.0</td>\n",
       "      <td>2016.0</td>\n",
       "      <td>SANTA CLARA, CALIFORNIA</td>\n",
       "      <td>SANTA CLARA</td>\n",
       "      <td>CALIFORNIA</td>\n",
       "      <td>-121.955236</td>\n",
       "      <td>37.354108</td>\n",
       "    </tr>\n",
       "    <tr>\n",
       "      <th>19</th>\n",
       "      <td>20</td>\n",
       "      <td>CERTIFIED</td>\n",
       "      <td>MCCHRYSTALGROUPLLC</td>\n",
       "      <td>CHIEF EXECUTIVES</td>\n",
       "      <td>PRESIDENT, NORTHEAST REGION</td>\n",
       "      <td>Y</td>\n",
       "      <td>241842.0</td>\n",
       "      <td>2016.0</td>\n",
       "      <td>ALEXANDRIA, VIRGINIA</td>\n",
       "      <td>ALEXANDRIA</td>\n",
       "      <td>VIRGINIA</td>\n",
       "      <td>-77.046921</td>\n",
       "      <td>38.804835</td>\n",
       "    </tr>\n",
       "    <tr>\n",
       "      <th>21</th>\n",
       "      <td>23</td>\n",
       "      <td>CERTIFIED</td>\n",
       "      <td>LOMICSLLC</td>\n",
       "      <td>CHIEF EXECUTIVES</td>\n",
       "      <td>CEO</td>\n",
       "      <td>Y</td>\n",
       "      <td>99986.0</td>\n",
       "      <td>2016.0</td>\n",
       "      <td>SAN DIEGO, CALIFORNIA</td>\n",
       "      <td>SAN DIEGO</td>\n",
       "      <td>CALIFORNIA</td>\n",
       "      <td>-117.161084</td>\n",
       "      <td>32.715738</td>\n",
       "    </tr>\n",
       "    <tr>\n",
       "      <th>22</th>\n",
       "      <td>24</td>\n",
       "      <td>CERTIFIED</td>\n",
       "      <td>UCUNIVERSITYHIGHSCHOOLEDUCATIONINC</td>\n",
       "      <td>CHIEF EXECUTIVES</td>\n",
       "      <td>CHIEF FINANCIAL OFFICER</td>\n",
       "      <td>Y</td>\n",
       "      <td>99986.0</td>\n",
       "      <td>2016.0</td>\n",
       "      <td>CHULA VISTA, CALIFORNIA</td>\n",
       "      <td>CHULA VISTA</td>\n",
       "      <td>CALIFORNIA</td>\n",
       "      <td>-117.084196</td>\n",
       "      <td>32.640054</td>\n",
       "    </tr>\n",
       "    <tr>\n",
       "      <th>24</th>\n",
       "      <td>26</td>\n",
       "      <td>CERTIFIED</td>\n",
       "      <td>QUICKLOGIXINC</td>\n",
       "      <td>CHIEF EXECUTIVES</td>\n",
       "      <td>CEO</td>\n",
       "      <td>Y</td>\n",
       "      <td>187200.0</td>\n",
       "      <td>2016.0</td>\n",
       "      <td>SANTA CLARA, CALIFORNIA</td>\n",
       "      <td>SANTA CLARA</td>\n",
       "      <td>CALIFORNIA</td>\n",
       "      <td>-121.955236</td>\n",
       "      <td>37.354108</td>\n",
       "    </tr>\n",
       "  </tbody>\n",
       "</table>\n",
       "</div>"
      ],
      "text/plain": [
       "    Key CASE_STATUS                       EMPLOYER_NAME          SOC_NAME  \\\n",
       "18   19   CERTIFIED                       QUICKLOGIXLLC  CHIEF EXECUTIVES   \n",
       "19   20   CERTIFIED                  MCCHRYSTALGROUPLLC  CHIEF EXECUTIVES   \n",
       "21   23   CERTIFIED                           LOMICSLLC  CHIEF EXECUTIVES   \n",
       "22   24   CERTIFIED  UCUNIVERSITYHIGHSCHOOLEDUCATIONINC  CHIEF EXECUTIVES   \n",
       "24   26   CERTIFIED                       QUICKLOGIXINC  CHIEF EXECUTIVES   \n",
       "\n",
       "                      JOB_TITLE FULL_TIME_POSITION  PREVAILING_WAGE    YEAR  \\\n",
       "18                          CEO                  Y         187200.0  2016.0   \n",
       "19  PRESIDENT, NORTHEAST REGION                  Y         241842.0  2016.0   \n",
       "21                          CEO                  Y          99986.0  2016.0   \n",
       "22      CHIEF FINANCIAL OFFICER                  Y          99986.0  2016.0   \n",
       "24                          CEO                  Y         187200.0  2016.0   \n",
       "\n",
       "                   WORKSITE         CITY     COUNTRY         lon        lat  \n",
       "18  SANTA CLARA, CALIFORNIA  SANTA CLARA  CALIFORNIA -121.955236  37.354108  \n",
       "19     ALEXANDRIA, VIRGINIA   ALEXANDRIA    VIRGINIA  -77.046921  38.804835  \n",
       "21    SAN DIEGO, CALIFORNIA    SAN DIEGO  CALIFORNIA -117.161084  32.715738  \n",
       "22  CHULA VISTA, CALIFORNIA  CHULA VISTA  CALIFORNIA -117.084196  32.640054  \n",
       "24  SANTA CLARA, CALIFORNIA  SANTA CLARA  CALIFORNIA -121.955236  37.354108  "
      ]
     },
     "execution_count": 70,
     "metadata": {},
     "output_type": "execute_result"
    }
   ],
   "source": [
    "# Creating a temprary dataframe for only Certified, Denied and rejected cases\n",
    "Temp_dataframe = dataframe1.loc[dataframe1['CASE_STATUS'].isin([\"CERTIFIED\", \"DENIED\", \"REJECTED\"])]\n",
    "#Temp_dataframe=Temp_dataframe.sort_values(by=['YEAR'], ascending=True)\n",
    "Temp_dataframe.head(5)"
   ]
  },
  {
   "cell_type": "code",
   "execution_count": 71,
   "metadata": {},
   "outputs": [],
   "source": [
    "#datatype conversion and upper case formatting\n",
    "Temp_dataframe['YEAR'] = Temp_dataframe['YEAR'].astype(int)\n",
    "Temp_dataframe['EMPLOYER_NAME'] = Temp_dataframe['EMPLOYER_NAME'].str.upper()\n",
    "Temp_dataframe['SOC_NAME'] = Temp_dataframe['SOC_NAME'].str.upper()\n",
    "Temp_dataframe['JOB_TITLE'] = Temp_dataframe['JOB_TITLE'].str.upper()\n",
    "Temp_dataframe['FULL_TIME_POSITION'] = Temp_dataframe['FULL_TIME_POSITION'].str.upper()"
   ]
  },
  {
   "cell_type": "code",
   "execution_count": 72,
   "metadata": {},
   "outputs": [
    {
     "data": {
      "text/html": [
       "<div>\n",
       "<style scoped>\n",
       "    .dataframe tbody tr th:only-of-type {\n",
       "        vertical-align: middle;\n",
       "    }\n",
       "\n",
       "    .dataframe tbody tr th {\n",
       "        vertical-align: top;\n",
       "    }\n",
       "\n",
       "    .dataframe thead th {\n",
       "        text-align: right;\n",
       "    }\n",
       "</style>\n",
       "<table border=\"1\" class=\"dataframe\">\n",
       "  <thead>\n",
       "    <tr style=\"text-align: right;\">\n",
       "      <th></th>\n",
       "      <th>Key</th>\n",
       "      <th>CASE_STATUS</th>\n",
       "      <th>EMPLOYER_NAME</th>\n",
       "      <th>SOC_NAME</th>\n",
       "      <th>JOB_TITLE</th>\n",
       "      <th>FULL_TIME_POSITION</th>\n",
       "      <th>PREVAILING_WAGE</th>\n",
       "      <th>YEAR</th>\n",
       "      <th>WORKSITE</th>\n",
       "      <th>CITY</th>\n",
       "      <th>COUNTRY</th>\n",
       "      <th>lon</th>\n",
       "      <th>lat</th>\n",
       "    </tr>\n",
       "  </thead>\n",
       "  <tbody>\n",
       "    <tr>\n",
       "      <th>18</th>\n",
       "      <td>19</td>\n",
       "      <td>CERTIFIED</td>\n",
       "      <td>QUICKLOGIXLLC</td>\n",
       "      <td>CHIEF EXECUTIVES</td>\n",
       "      <td>CEO</td>\n",
       "      <td>Y</td>\n",
       "      <td>187200.0</td>\n",
       "      <td>2016</td>\n",
       "      <td>SANTA CLARA, CALIFORNIA</td>\n",
       "      <td>SANTA CLARA</td>\n",
       "      <td>CALIFORNIA</td>\n",
       "      <td>-121.955236</td>\n",
       "      <td>37.354108</td>\n",
       "    </tr>\n",
       "    <tr>\n",
       "      <th>19</th>\n",
       "      <td>20</td>\n",
       "      <td>CERTIFIED</td>\n",
       "      <td>MCCHRYSTALGROUPLLC</td>\n",
       "      <td>CHIEF EXECUTIVES</td>\n",
       "      <td>PRESIDENT, NORTHEAST REGION</td>\n",
       "      <td>Y</td>\n",
       "      <td>241842.0</td>\n",
       "      <td>2016</td>\n",
       "      <td>ALEXANDRIA, VIRGINIA</td>\n",
       "      <td>ALEXANDRIA</td>\n",
       "      <td>VIRGINIA</td>\n",
       "      <td>-77.046921</td>\n",
       "      <td>38.804835</td>\n",
       "    </tr>\n",
       "    <tr>\n",
       "      <th>21</th>\n",
       "      <td>23</td>\n",
       "      <td>CERTIFIED</td>\n",
       "      <td>LOMICSLLC</td>\n",
       "      <td>CHIEF EXECUTIVES</td>\n",
       "      <td>CEO</td>\n",
       "      <td>Y</td>\n",
       "      <td>99986.0</td>\n",
       "      <td>2016</td>\n",
       "      <td>SAN DIEGO, CALIFORNIA</td>\n",
       "      <td>SAN DIEGO</td>\n",
       "      <td>CALIFORNIA</td>\n",
       "      <td>-117.161084</td>\n",
       "      <td>32.715738</td>\n",
       "    </tr>\n",
       "    <tr>\n",
       "      <th>22</th>\n",
       "      <td>24</td>\n",
       "      <td>CERTIFIED</td>\n",
       "      <td>UCUNIVERSITYHIGHSCHOOLEDUCATIONINC</td>\n",
       "      <td>CHIEF EXECUTIVES</td>\n",
       "      <td>CHIEF FINANCIAL OFFICER</td>\n",
       "      <td>Y</td>\n",
       "      <td>99986.0</td>\n",
       "      <td>2016</td>\n",
       "      <td>CHULA VISTA, CALIFORNIA</td>\n",
       "      <td>CHULA VISTA</td>\n",
       "      <td>CALIFORNIA</td>\n",
       "      <td>-117.084196</td>\n",
       "      <td>32.640054</td>\n",
       "    </tr>\n",
       "    <tr>\n",
       "      <th>24</th>\n",
       "      <td>26</td>\n",
       "      <td>CERTIFIED</td>\n",
       "      <td>QUICKLOGIXINC</td>\n",
       "      <td>CHIEF EXECUTIVES</td>\n",
       "      <td>CEO</td>\n",
       "      <td>Y</td>\n",
       "      <td>187200.0</td>\n",
       "      <td>2016</td>\n",
       "      <td>SANTA CLARA, CALIFORNIA</td>\n",
       "      <td>SANTA CLARA</td>\n",
       "      <td>CALIFORNIA</td>\n",
       "      <td>-121.955236</td>\n",
       "      <td>37.354108</td>\n",
       "    </tr>\n",
       "  </tbody>\n",
       "</table>\n",
       "</div>"
      ],
      "text/plain": [
       "    Key CASE_STATUS                       EMPLOYER_NAME          SOC_NAME  \\\n",
       "18   19   CERTIFIED                       QUICKLOGIXLLC  CHIEF EXECUTIVES   \n",
       "19   20   CERTIFIED                  MCCHRYSTALGROUPLLC  CHIEF EXECUTIVES   \n",
       "21   23   CERTIFIED                           LOMICSLLC  CHIEF EXECUTIVES   \n",
       "22   24   CERTIFIED  UCUNIVERSITYHIGHSCHOOLEDUCATIONINC  CHIEF EXECUTIVES   \n",
       "24   26   CERTIFIED                       QUICKLOGIXINC  CHIEF EXECUTIVES   \n",
       "\n",
       "                      JOB_TITLE FULL_TIME_POSITION  PREVAILING_WAGE  YEAR  \\\n",
       "18                          CEO                  Y         187200.0  2016   \n",
       "19  PRESIDENT, NORTHEAST REGION                  Y         241842.0  2016   \n",
       "21                          CEO                  Y          99986.0  2016   \n",
       "22      CHIEF FINANCIAL OFFICER                  Y          99986.0  2016   \n",
       "24                          CEO                  Y         187200.0  2016   \n",
       "\n",
       "                   WORKSITE         CITY     COUNTRY         lon        lat  \n",
       "18  SANTA CLARA, CALIFORNIA  SANTA CLARA  CALIFORNIA -121.955236  37.354108  \n",
       "19     ALEXANDRIA, VIRGINIA   ALEXANDRIA    VIRGINIA  -77.046921  38.804835  \n",
       "21    SAN DIEGO, CALIFORNIA    SAN DIEGO  CALIFORNIA -117.161084  32.715738  \n",
       "22  CHULA VISTA, CALIFORNIA  CHULA VISTA  CALIFORNIA -117.084196  32.640054  \n",
       "24  SANTA CLARA, CALIFORNIA  SANTA CLARA  CALIFORNIA -121.955236  37.354108  "
      ]
     },
     "execution_count": 72,
     "metadata": {},
     "output_type": "execute_result"
    }
   ],
   "source": [
    "Temp_dataframe.head(5)"
   ]
  },
  {
   "cell_type": "code",
   "execution_count": 73,
   "metadata": {},
   "outputs": [
    {
     "data": {
      "text/plain": [
       "<AxesSubplot:title={'center':'CASE STATUS vs # OF PETITIONS \\n '}, xlabel='\\n CASE STATUS', ylabel='NUMBER OF PETITIONS \\n'>"
      ]
     },
     "execution_count": 73,
     "metadata": {},
     "output_type": "execute_result"
    },
    {
     "data": {
      "image/png": "[encoded data removed]",
      "text/plain": [
       "<Figure size 576x504 with 1 Axes>"
      ]
     },
     "metadata": {
      "needs_background": "light"
     },
     "output_type": "display_data"
    }
   ],
   "source": [
    "plot_status_petitions = Temp_dataframe['CASE_STATUS'].value_counts().plot(title = 'CASE STATUS vs # OF PETITIONS \\n ',kind = 'bar', color = 'purple', figsize = (8, 7))\n",
    "plot_status_petitions.set_xlabel(\"\\n CASE STATUS\")\n",
    "plot_status_petitions.set_ylabel(\"NUMBER OF PETITIONS \\n\")\n",
    "for p in plot_status_petitions.patches:\n",
    "    plot_status_petitions.annotate(str(p.get_height()), (p.get_x() * 1.0050, p.get_height() * 1.000))\n",
    "plot_status_petitions"
   ]
  },
  {
   "cell_type": "markdown",
   "metadata": {},
   "source": [
    "Analysis #2"
   ]
  },
  {
   "cell_type": "code",
   "execution_count": 74,
   "metadata": {},
   "outputs": [
    {
     "name": "stdout",
     "output_type": "stream",
     "text": [
      " Top 10 Employers filing for petition \n",
      " \n",
      "INFOSYSLIMITED                               26395\n",
      "IBMINDIAPRIVATELIMITED                       20723\n",
      "WIPROLIMITED                                 19115\n",
      "TATACONSULTANCYSERVICESLIMITED               17950\n",
      "DELOITTECONSULTINGLLP                        16764\n",
      "ACCENTURELLP                                 15466\n",
      "HCLAMERICAINC                                12067\n",
      "TECHMAHINDRAAMERICASINC                      10800\n",
      "IBMCORPORATION                                9723\n",
      "COGNIZANTTECHNOLOGYSOLUTIONSUSCORPORATION     9120\n",
      "Name: EMPLOYER_NAME, dtype: int64\n"
     ]
    },
    {
     "data": {
      "image/png": "[encoded data removed]",
      "text/plain": [
       "<Figure size 504x360 with 1 Axes>"
      ]
     },
     "metadata": {
      "needs_background": "light"
     },
     "output_type": "display_data"
    }
   ],
   "source": [
    "print(\" Top 10 Employers filing for petition \\n \")\n",
    "Top_employers_filing_for_petition= Temp_dataframe['EMPLOYER_NAME'].value_counts().head(10).plot.barh(title = \"Top 10 Employers Filing for Petition \\n\", \\\n",
    "                                                                 fontsize=12, color = 'purple',linewidth=2.0, figsize = (7, 5))\n",
    "Top_employers_filing_for_petition.set_ylabel(\"Employers \\n\",fontsize=13)\n",
    "Top_employers_filing_for_petition.set_xlabel(\"\\n Number of petitions\",fontsize=12)\n",
    "Top_employers_filing_for_petition\n",
    "print(dataframe1['EMPLOYER_NAME'].value_counts().head(10))\n"
   ]
  },
  {
   "cell_type": "markdown",
   "metadata": {},
   "source": [
    "Analysis #3"
   ]
  },
  {
   "cell_type": "code",
   "execution_count": 75,
   "metadata": {},
   "outputs": [
    {
     "name": "stdout",
     "output_type": "stream",
     "text": [
      "Top 10 Positions in demand for H1B \n",
      "\n",
      "Computer Systems Analysts                    173895\n",
      "SOFTWARE DEVELOPERS, APPLICATIONS            138307\n",
      "Software Developers, Applications            136994\n",
      "Computer Programmers                         134081\n",
      "COMPUTER SYSTEMS ANALYSTS                    115682\n",
      "COMPUTER PROGRAMMERS                          80016\n",
      "COMPUTER OCCUPATIONS, ALL OTHER               62853\n",
      "Computer Occupations, All Other               42677\n",
      "Software Developers, Systems Software         30997\n",
      "Management Analysts                           29754\n",
      "Financial Analysts                            27277\n",
      "SOFTWARE DEVELOPERS, SYSTEMS SOFTWARE         25622\n",
      "Computer Software Engineers, Applications     25182\n",
      "Accountants and Auditors                      24592\n",
      "Mechanical Engineers                          22152\n",
      "Name: SOC_NAME, dtype: int64\n"
     ]
    },
    {
     "data": {
      "image/png": "[encoded data removed]",
      "text/plain": [
       "<Figure size 504x360 with 1 Axes>"
      ]
     },
     "metadata": {
      "needs_background": "light"
     },
     "output_type": "display_data"
    }
   ],
   "source": [
    "print(\"Top 10 Positions in demand for H1B \\n\")\n",
    "top10_occupation_demading_for_H1B= Temp_dataframe['SOC_NAME'].value_counts().head(15).plot.barh(title = \"Top 10 positions in Demand \\n\", \\\n",
    "                                                                 fontsize=12, color = 'purple',linewidth=2.0, figsize = (7, 5))\n",
    "top10_occupation_demading_for_H1B.set_ylabel(\"Occupation Name\\n \",fontsize=12)\n",
    "top10_occupation_demading_for_H1B.set_xlabel(\"\\n Number of Petitions\",fontsize=12)\n",
    "top10_occupation_demading_for_H1B\n",
    "print(dataframe1['SOC_NAME'].value_counts().head(15))"
   ]
  },
  {
   "cell_type": "markdown",
   "metadata": {},
   "source": [
    "Analysis #4"
   ]
  },
  {
   "cell_type": "code",
   "execution_count": 76,
   "metadata": {},
   "outputs": [
    {
     "data": {
      "image/png": "[encoded data removed]",
      "text/plain": [
       "<Figure size 648x576 with 1 Axes>"
      ]
     },
     "metadata": {
      "needs_background": "light"
     },
     "output_type": "display_data"
    },
    {
     "data": {
      "image/png": "[encoded data removed]",
      "text/plain": [
       "<Figure size 648x576 with 1 Axes>"
      ]
     },
     "metadata": {
      "needs_background": "light"
     },
     "output_type": "display_data"
    },
    {
     "data": {
      "image/png": "[encoded data removed]",
      "text/plain": [
       "<Figure size 648x576 with 1 Axes>"
      ]
     },
     "metadata": {
      "needs_background": "light"
     },
     "output_type": "display_data"
    }
   ],
   "source": [
    "# Number of petitions evry year\n",
    "#without sorting\n",
    "yearwise_petition_plot=Temp_dataframe['YEAR'].value_counts().plot(title = \"H1-B Petitions per year \\n\",\\\n",
    "                                                                kind='bar', fontsize=12, color = 'purple',linewidth=5,figsize = (9,8))\n",
    "yearwise_petition_plot.set_xlabel('\\n FILING YEAR ')\n",
    "yearwise_petition_plot.set_ylabel(' NUMBER OF PETITIONS\\n')\n",
    "yearwise_petition_plot.tick_params(axis='x', which='major', labelsize=5)\n",
    "\n",
    "                                  \n",
    "#petition acceptance ratio per year\n",
    "yearwise_acceptance_plot = pd.DataFrame(Temp_dataframe[Temp_dataframe['CASE_STATUS'] == 'CERTIFIED'].YEAR.value_counts() / Temp_dataframe.YEAR.value_counts())\n",
    "yearwise_acceptance_plot = yearwise_acceptance_plot.sort_values(['YEAR'])\n",
    "yearwise_acceptance_plot = yearwise_acceptance_plot.plot(title = 'Yearwise H1-B Petitions acceptance \\n', kind = 'line', fontsize=12, color = 'purple',linewidth=5, figsize = (9, 8))\n",
    "yearwise_acceptance_plot.set_xlabel('\\nFILING YEAR')\n",
    "yearwise_acceptance_plot.set_ylabel('Petition ACCEPTANCE RATIO\\n')\n",
    "yearwise_petition_plot.tick_params(axis='x', which='major', labelsize=10)\n",
    "plt.show()\n",
    "\n",
    "#petition acceptance ratio per year\n",
    "yearwise_rejection_plot = pd.DataFrame(Temp_dataframe[Temp_dataframe['CASE_STATUS'] != 'CERTIFIED'].YEAR.value_counts() / Temp_dataframe.YEAR.value_counts())\n",
    "yearwise_rejection_plot = yearwise_rejection_plot.sort_values(['YEAR'])\n",
    "yearwise_rejection_plot = yearwise_rejection_plot.plot(title = 'Yearwise H1-B Petitions rejected/denied \\n', kind = 'line', fontsize=12, color = 'purple',linewidth=5, figsize = (9, 8))\n",
    "yearwise_rejection_plot.set_xlabel('\\nFILING YEAR')\n",
    "yearwise_rejection_plot.set_ylabel('Petition rejected/denied RATIO\\n')\n",
    "yearwise_rejection_plot.tick_params(axis='x', which='major', labelsize=10)\n",
    "plt.show()"
   ]
  },
  {
   "cell_type": "markdown",
   "metadata": {},
   "source": [
    "Analysis #5"
   ]
  },
  {
   "cell_type": "code",
   "execution_count": 77,
   "metadata": {},
   "outputs": [
    {
     "data": {
      "image/png": "[encoded data removed]",
      "text/plain": [
       "<Figure size 576x504 with 1 Axes>"
      ]
     },
     "metadata": {
      "needs_background": "light"
     },
     "output_type": "display_data"
    },
    {
     "data": {
      "text/plain": [
       "<AxesSubplot:title={'center':'Yearwise Median Salary of employees\\n'}, xlabel='\\n PETITION FILING YEAR', ylabel='MEDiAN SALARY OF EMPLOYEES\\n'>"
      ]
     },
     "execution_count": 77,
     "metadata": {},
     "output_type": "execute_result"
    }
   ],
   "source": [
    "# Median salary per year\n",
    "Salary_vs_year = Temp_dataframe.loc[:,['PREVAILING_WAGE', 'YEAR']].groupby(['YEAR']).agg(['median'])\n",
    "\n",
    "Salary_vs_year = Salary_vs_year.plot(title='Yearwise Median Salary of employees\\n',kind = 'bar', color = 'purple', legend = None, figsize = (8, 7))\n",
    "Salary_vs_year.set_xlabel('\\n PETITION FILING YEAR')\n",
    "Salary_vs_year.set_ylabel('MEDiAN SALARY OF EMPLOYEES\\n')\n",
    "plt.show()\n",
    "Salary_vs_year"
   ]
  },
  {
   "cell_type": "markdown",
   "metadata": {},
   "source": [
    "# Feature Encoding"
   ]
  },
  {
   "cell_type": "markdown",
   "metadata": {},
   "source": [
    "# Filter to keep only  'CERTIFIED' or 'DECLINED' case status"
   ]
  },
  {
   "cell_type": "code",
   "execution_count": 78,
   "metadata": {},
   "outputs": [
    {
     "name": "stdout",
     "output_type": "stream",
     "text": [
      "['CERTIFIED' 'DENIED' 'REJECTED']\n",
      "['CERTIFIED' 'DENIED']\n"
     ]
    }
   ],
   "source": [
    "print(Temp_dataframe['CASE_STATUS'].unique())\n",
    "Temp_dataframe = Temp_dataframe.loc[Temp_dataframe['CASE_STATUS'].isin([\"CERTIFIED\", \"DENIED\"])] #filtering\n",
    "print(Temp_dataframe['CASE_STATUS'].unique())"
   ]
  },
  {
   "cell_type": "code",
   "execution_count": 79,
   "metadata": {},
   "outputs": [
    {
     "data": {
      "text/plain": [
       "Key                       0\n",
       "CASE_STATUS               0\n",
       "EMPLOYER_NAME             0\n",
       "SOC_NAME                  0\n",
       "JOB_TITLE                 0\n",
       "FULL_TIME_POSITION        1\n",
       "PREVAILING_WAGE          49\n",
       "YEAR                      0\n",
       "WORKSITE                  0\n",
       "CITY                    124\n",
       "COUNTRY                   0\n",
       "lon                   86096\n",
       "lat                   86096\n",
       "dtype: int64"
      ]
     },
     "execution_count": 79,
     "metadata": {},
     "output_type": "execute_result"
    }
   ],
   "source": [
    "Temp_dataframe.isnull().sum(axis = 0)"
   ]
  },
  {
   "cell_type": "code",
   "execution_count": 80,
   "metadata": {},
   "outputs": [
    {
     "name": "stdout",
     "output_type": "stream",
     "text": [
      "(1812848, 13)\n",
      "(1812848, 13)\n"
     ]
    }
   ],
   "source": [
    "Temp_dataframe1 = Temp_dataframe\n",
    "print(Temp_dataframe.shape)\n",
    "print(Temp_dataframe1.shape)"
   ]
  },
  {
   "cell_type": "code",
   "execution_count": 81,
   "metadata": {},
   "outputs": [
    {
     "data": {
      "text/plain": [
       "CERTIFIED    1729447\n",
       "DENIED         83401\n",
       "Name: CASE_STATUS, dtype: int64"
      ]
     },
     "execution_count": 81,
     "metadata": {},
     "output_type": "execute_result"
    }
   ],
   "source": [
    "Temp_dataframe1.CASE_STATUS.value_counts()"
   ]
  },
  {
   "cell_type": "code",
   "execution_count": 82,
   "metadata": {},
   "outputs": [],
   "source": [
    "Temp_dataframe1_denied = Temp_dataframe1[Temp_dataframe1['CASE_STATUS'] == 'DENIED']"
   ]
  },
  {
   "cell_type": "code",
   "execution_count": 83,
   "metadata": {},
   "outputs": [],
   "source": [
    "Temp_dataframe1_certified = Temp_dataframe1[Temp_dataframe1['CASE_STATUS'] == 'CERTIFIED']"
   ]
  },
  {
   "cell_type": "code",
   "execution_count": 84,
   "metadata": {
    "scrolled": true
   },
   "outputs": [],
   "source": [
    "Input_Certified, Input_Certified_extra, y_certified, y_certified_extra = \\\n",
    "train_test_split(Temp_dataframe1[Temp_dataframe1.CASE_STATUS == 'CERTIFIED'],Temp_dataframe1_certified.CASE_STATUS, train_size= 0.06, random_state=1)"
   ]
  },
  {
   "cell_type": "code",
   "execution_count": 85,
   "metadata": {},
   "outputs": [],
   "source": [
    "training_df = Input_Certified.append(Temp_dataframe1_denied)"
   ]
  },
  {
   "cell_type": "code",
   "execution_count": 86,
   "metadata": {},
   "outputs": [
    {
     "data": {
      "image/png": "[encoded data removed]",
      "text/plain": [
       "<Figure size 432x288 with 1 Axes>"
      ]
     },
     "metadata": {
      "needs_background": "light"
     },
     "output_type": "display_data"
    }
   ],
   "source": [
    "## plot the distribution of the certified and denied samples after downsampling\n",
    "plot_after_ds = training_df['CASE_STATUS'].value_counts().plot(title = 'CASE STATUS vs NUMBER OF PETITIONS', \\\n",
    "                                                                kind = 'bar', color = 'purple')\n",
    "plot_after_ds.set_xlabel(\"CASE STATUS\")\n",
    "plot_after_ds.set_ylabel(\"NUMBER OF PETITIONS\")\n",
    "for p in plot_after_ds.patches:\n",
    "    plot_after_ds.annotate(str(p.get_height()), (p.get_x() * 1.0050, p.get_height() * 1.005))\n",
    "plt.show()"
   ]
  },
  {
   "cell_type": "markdown",
   "metadata": {},
   "source": [
    "#converting the categorical data into numerical categories, This is achieved by identifying the unique values of the columns"
   ]
  },
  {
   "cell_type": "code",
   "execution_count": 87,
   "metadata": {},
   "outputs": [
    {
     "name": "stdout",
     "output_type": "stream",
     "text": [
      "Dataframe with confirmed or denied cases :\n",
      " \n",
      "*******************************************\n",
      "<class 'pandas.core.frame.DataFrame'>\n",
      "Int64Index: 187167 entries, 1282510 to 2068166\n",
      "Data columns (total 13 columns):\n",
      " #   Column              Non-Null Count   Dtype  \n",
      "---  ------              --------------   -----  \n",
      " 0   Key                 187167 non-null  int64  \n",
      " 1   CASE_STATUS         187167 non-null  object \n",
      " 2   EMPLOYER_NAME       187167 non-null  object \n",
      " 3   SOC_NAME            187167 non-null  object \n",
      " 4   JOB_TITLE           187167 non-null  object \n",
      " 5   FULL_TIME_POSITION  187166 non-null  object \n",
      " 6   PREVAILING_WAGE     187118 non-null  float64\n",
      " 7   YEAR                187167 non-null  int64  \n",
      " 8   WORKSITE            187167 non-null  object \n",
      " 9   CITY                187141 non-null  object \n",
      " 10  COUNTRY             187167 non-null  object \n",
      " 11  lon                 174772 non-null  float64\n",
      " 12  lat                 174772 non-null  float64\n",
      "dtypes: float64(3), int64(2), object(8)\n",
      "memory usage: 20.0+ MB\n",
      "None\n",
      "*******************************************\n",
      "Unique values count of each columns :\n",
      "\n",
      "Case Status  2\n",
      "Unique Employers  72400\n",
      "Unique SOCs  958\n",
      "Unique Job Titles  51016\n",
      "Unique Employment Type  2\n",
      "Prevailing Wages  23847\n",
      "Unique Year  6\n",
      "Unique Worksite State  8382\n",
      "Unique CITY State  6242\n",
      "Unique COUNTRY State  52\n"
     ]
    }
   ],
   "source": [
    "# one-hot encoding for every possible and needed column\n",
    "print(\"Dataframe with confirmed or denied cases :\\n \")\n",
    "print(\"*******************************************\")\n",
    "print(training_df.info())\n",
    "print(\"*******************************************\")\n",
    "print(\"Unique values count of each columns :\\n\")\n",
    "print(\"Case Status \",training_df.CASE_STATUS.nunique())\n",
    "print(\"Unique Employers \",training_df.EMPLOYER_NAME.nunique())\n",
    "print(\"Unique SOCs \", training_df.SOC_NAME.nunique())\n",
    "print(\"Unique Job Titles \",training_df.JOB_TITLE.nunique())\n",
    "print(\"Unique Employment Type \", training_df.FULL_TIME_POSITION.nunique())\n",
    "print(\"Prevailing Wages \",training_df.PREVAILING_WAGE.nunique())\n",
    "print(\"Unique Year \",training_df.YEAR.nunique())\n",
    "print(\"Unique Worksite State \",training_df.WORKSITE.nunique())\n",
    "print(\"Unique CITY State \",training_df.CITY.nunique())\n",
    "print(\"Unique COUNTRY State \",training_df.COUNTRY.nunique())\n"
   ]
  },
  {
   "cell_type": "markdown",
   "metadata": {},
   "source": [
    "# Categorzing the Features"
   ]
  },
  {
   "cell_type": "code",
   "execution_count": 88,
   "metadata": {},
   "outputs": [],
   "source": [
    "def Prevailing_wage_categorization(prevailing_wage):\n",
    "    if prevailing_wage <=50000:\n",
    "        return \"VERY LOW\"\n",
    "    elif prevailing_wage >50000 and prevailing_wage <= 70000:\n",
    "        return \"LOW\"\n",
    "    elif prevailing_wage >70000 and prevailing_wage <= 90000:\n",
    "        return \"MEDIUM\"\n",
    "    elif prevailing_wage >90000 and prevailing_wage<=150000:\n",
    "        return \"HIGH\"\n",
    "    elif prevailing_wage >=150000:\n",
    "        return \"VERY HIGH\"\n",
    "    \n",
    "def Grant_status_Categorization(acceptance_ratio):\n",
    "    if acceptance_ratio == -1:\n",
    "        return \"AR\"\n",
    "    elif acceptance_ratio >=0.0 and acceptance_ratio<0.20:\n",
    "        return \"VLA\"\n",
    "    elif acceptance_ratio>=0.20 and acceptance_ratio<0.40:\n",
    "        return \"LA\"\n",
    "    elif acceptance_ratio>=0.40 and acceptance_ratio<0.60:\n",
    "        return \"MA\"\n",
    "    elif acceptance_ratio>=0.60 and acceptance_ratio<0.80:\n",
    "        return \"HA\"\n",
    "    elif acceptance_ratio>=0.80:\n",
    "        return \"VHA\"\n",
    "def worksite_collector(worksite):\n",
    "    return worksite.split(', ')[1]"
   ]
  },
  {
   "cell_type": "markdown",
   "metadata": {},
   "source": [
    "Feature Creation, One Hot Encoding to convert the categorical field for wage, employer, soc and job"
   ]
  },
  {
   "cell_type": "code",
   "execution_count": 89,
   "metadata": {},
   "outputs": [
    {
     "data": {
      "text/plain": [
       "array(['NEW HAMPSHIRE', 'VIRGINIA', 'MICHIGAN', 'CALIFORNIA', 'TEXAS',\n",
       "       'ALASKA', 'ILLINOIS', 'CONNECTICUT', 'NEW YORK', 'OHIO', 'GEORGIA',\n",
       "       'NEW JERSEY', 'NORTH CAROLINA', 'MASSACHUSETTS', 'COLORADO',\n",
       "       'WEST VIRGINIA', 'OREGON', 'MISSOURI', 'IOWA', 'RHODE ISLAND',\n",
       "       'PENNSYLVANIA', 'ARIZONA', 'FLORIDA', 'WASHINGTON', 'OKLAHOMA',\n",
       "       'NEBRASKA', 'ALABAMA', 'TENNESSEE', 'MARYLAND', 'KENTUCKY',\n",
       "       'DELAWARE', 'NEVADA', 'INDIANA', 'SOUTH CAROLINA',\n",
       "       'DISTRICT OF COLUMBIA', 'MINNESOTA', 'NEW MEXICO', 'WISCONSIN',\n",
       "       'LOUISIANA', 'ARKANSAS', 'VERMONT', 'MISSISSIPPI', 'SOUTH DAKOTA',\n",
       "       'KANSAS', 'IDAHO', 'HAWAII', 'MAINE', 'UTAH', 'MONTANA',\n",
       "       'PUERTO RICO', 'WYOMING', 'NORTH DAKOTA'], dtype=object)"
      ]
     },
     "execution_count": 89,
     "metadata": {},
     "output_type": "execute_result"
    }
   ],
   "source": [
    "training_df['WORKSITE'] = training_df['WORKSITE'].apply(worksite_collector)\n",
    "training_df.WORKSITE.unique()"
   ]
  },
  {
   "cell_type": "code",
   "execution_count": 90,
   "metadata": {},
   "outputs": [
    {
     "data": {
      "text/plain": [
       "1282510      MEDIUM\n",
       "1669038        HIGH\n",
       "2027675        HIGH\n",
       "1382117    VERY LOW\n",
       "553826          LOW\n",
       "             ...   \n",
       "2068143    VERY LOW\n",
       "2068144         LOW\n",
       "2068146    VERY LOW\n",
       "2068158         LOW\n",
       "2068166         LOW\n",
       "Name: PREVAILING_WAGE_CATEGORY, Length: 187167, dtype: object"
      ]
     },
     "execution_count": 90,
     "metadata": {},
     "output_type": "execute_result"
    }
   ],
   "source": [
    "training_df['PREVAILING_WAGE_CATEGORY'] = training_df['PREVAILING_WAGE'].apply(Prevailing_wage_categorization)\n",
    "training_df['PREVAILING_WAGE_CATEGORY']"
   ]
  },
  {
   "cell_type": "code",
   "execution_count": 91,
   "metadata": {},
   "outputs": [
    {
     "name": "stdout",
     "output_type": "stream",
     "text": [
      "                         EMPLOYER_NAME CASE_STATUS\n",
      "1282510                 DATAGRAVITYINC   CERTIFIED\n",
      "1669038          HEWLETTPACKARDCOMPANY   CERTIFIED\n",
      "2027675           UNIVERSITYOFMICHIGAN   CERTIFIED\n",
      "1382117               DIOCESEOFSANJOSE   CERTIFIED\n",
      "553826                          ARMINC   CERTIFIED\n",
      "...                                ...         ...\n",
      "2068143                PARKSASSOCIATES      DENIED\n",
      "2068144  OREGONHEALTHSCIENCEUNIVERSITY      DENIED\n",
      "2068146                   CUSTOMTBTLLC      DENIED\n",
      "2068158            IVERTIXINCORPORATED      DENIED\n",
      "2068166    PEIPARTNERSHIPARCHITECTSLLP      DENIED\n",
      "\n",
      "[187167 rows x 2 columns]\n"
     ]
    }
   ],
   "source": [
    "employer_tdf = training_df.loc[:,['EMPLOYER_NAME', 'CASE_STATUS']]\n",
    "soc_tdf = training_df.loc[:,['SOC_NAME', 'CASE_STATUS']]\n",
    "job_tdf = training_df.loc[:,['JOB_TITLE', 'CASE_STATUS']]\n",
    "print(employer_tdf)"
   ]
  },
  {
   "cell_type": "code",
   "execution_count": 92,
   "metadata": {},
   "outputs": [],
   "source": [
    "certified_employer_tdf = employer_tdf[employer_tdf.CASE_STATUS == 'CERTIFIED'].EMPLOYER_NAME\n",
    "certified_soc_tdf = soc_tdf[soc_tdf.CASE_STATUS == 'CERTIFIED'].SOC_NAME\n",
    "certified_job_tdf = job_tdf[job_tdf.CASE_STATUS == 'CERTIFIED'].JOB_TITLE\n",
    "confirmed_employer_count = certified_employer_tdf.value_counts()\n",
    "confirmed_SOC_count = certified_soc_tdf.value_counts()\n",
    "confirmed_job_count = certified_job_tdf.value_counts()"
   ]
  },
  {
   "cell_type": "code",
   "execution_count": 93,
   "metadata": {},
   "outputs": [],
   "source": [
    "total_employer_counts = employer_tdf.EMPLOYER_NAME.value_counts()\n",
    "total_soc_counts = soc_tdf.SOC_NAME.value_counts()\n",
    "total_job_counts = job_tdf.JOB_TITLE.value_counts()"
   ]
  },
  {
   "cell_type": "code",
   "execution_count": 94,
   "metadata": {},
   "outputs": [],
   "source": [
    "ratio_final = confirmed_employer_count / total_employer_counts\n",
    "ratio_final.fillna(-1, inplace=True)\n",
    "employer_classification_final = ratio_final.apply(Grant_status_Categorization)\n",
    "training_df['EMPLOYER_ACCEPTANCE'] = training_df.EMPLOYER_NAME.map(employer_classification_final)"
   ]
  },
  {
   "cell_type": "code",
   "execution_count": 95,
   "metadata": {},
   "outputs": [],
   "source": [
    "ratio_final_soc = confirmed_SOC_count / total_soc_counts\n",
    "ratio_final_soc.fillna(-1, inplace=True)\n",
    "soc_classification_final = ratio_final_soc.apply(Grant_status_Categorization)\n",
    "training_df['SOC_ACCEPTANCE'] = training_df.SOC_NAME.map(soc_classification_final)"
   ]
  },
  {
   "cell_type": "code",
   "execution_count": 96,
   "metadata": {},
   "outputs": [],
   "source": [
    "ratio_final_job = confirmed_job_count / total_job_counts\n",
    "ratio_final_job.fillna(-1, inplace=True)\n",
    "job_classification_final = ratio_final_job.apply(Grant_status_Categorization)\n",
    "training_df['JOB_ACCEPTANCE'] = training_df.JOB_TITLE.map(job_classification_final)"
   ]
  },
  {
   "cell_type": "code",
   "execution_count": 97,
   "metadata": {},
   "outputs": [
    {
     "name": "stdout",
     "output_type": "stream",
     "text": [
      "*******************************************\n",
      "Unique values count of each columns :\n",
      "\n",
      "Case Status  2\n",
      "Unique Employers  6\n",
      "Wages Category 5\n",
      "Unique SOCs  6\n",
      "Unique Job Titles  6\n",
      "Unique Filing Year  6\n",
      "Unique Worksite State  52\n",
      "Unique Employment Type  2\n",
      "*******************************************\n",
      "<class 'pandas.core.frame.DataFrame'>\n",
      "Int64Index: 187167 entries, 1282510 to 2068166\n",
      "Data columns (total 17 columns):\n",
      " #   Column                    Non-Null Count   Dtype  \n",
      "---  ------                    --------------   -----  \n",
      " 0   Key                       187167 non-null  int64  \n",
      " 1   CASE_STATUS               187167 non-null  object \n",
      " 2   EMPLOYER_NAME             187167 non-null  object \n",
      " 3   SOC_NAME                  187167 non-null  object \n",
      " 4   JOB_TITLE                 187167 non-null  object \n",
      " 5   FULL_TIME_POSITION        187166 non-null  object \n",
      " 6   PREVAILING_WAGE           187118 non-null  float64\n",
      " 7   YEAR                      187167 non-null  int64  \n",
      " 8   WORKSITE                  187167 non-null  object \n",
      " 9   CITY                      187141 non-null  object \n",
      " 10  COUNTRY                   187167 non-null  object \n",
      " 11  lon                       174772 non-null  float64\n",
      " 12  lat                       174772 non-null  float64\n",
      " 13  PREVAILING_WAGE_CATEGORY  187118 non-null  object \n",
      " 14  EMPLOYER_ACCEPTANCE       187167 non-null  object \n",
      " 15  SOC_ACCEPTANCE            187167 non-null  object \n",
      " 16  JOB_ACCEPTANCE            187167 non-null  object \n",
      "dtypes: float64(3), int64(2), object(12)\n",
      "memory usage: 25.7+ MB\n"
     ]
    }
   ],
   "source": [
    "print(\"*******************************************\")\n",
    "print(\"Unique values count of each columns :\\n\")\n",
    "print(\"Case Status \",training_df.CASE_STATUS.nunique())\n",
    "print(\"Unique Employers \",training_df.EMPLOYER_ACCEPTANCE.nunique())\n",
    "print(\"Wages Category\", training_df.PREVAILING_WAGE_CATEGORY.nunique())\n",
    "print(\"Unique SOCs \", training_df.SOC_ACCEPTANCE.nunique())\n",
    "print(\"Unique Job Titles \",training_df.JOB_ACCEPTANCE.nunique())\n",
    "print(\"Unique Filing Year \",training_df.YEAR.nunique())\n",
    "print(\"Unique Worksite State \",training_df.WORKSITE.nunique())\n",
    "print(\"Unique Employment Type \", training_df.FULL_TIME_POSITION.nunique())\n",
    "print(\"*******************************************\")\n",
    "training_df.info()"
   ]
  },
  {
   "cell_type": "code",
   "execution_count": 98,
   "metadata": {},
   "outputs": [],
   "source": [
    "case_status_dict = {\"CERTIFIED\" : 1, \"DENIED\": 0}\n",
    "full_time_position_dict = {\"Y\" : 1, \"N\" : 0}\n",
    "try:    \n",
    "    training_df['CASE_STATUS'] = training_df['CASE_STATUS'].apply(lambda x: case_status_dict[x])\n",
    "    training_df['FULL_TIME_POSITION'] = training_df['FULL_TIME_POSITION'].apply(lambda x: full_time_position_dict[x])\n",
    "except:\n",
    "    pass"
   ]
  },
  {
   "cell_type": "code",
   "execution_count": 99,
   "metadata": {},
   "outputs": [
    {
     "data": {
      "text/html": [
       "<div>\n",
       "<style scoped>\n",
       "    .dataframe tbody tr th:only-of-type {\n",
       "        vertical-align: middle;\n",
       "    }\n",
       "\n",
       "    .dataframe tbody tr th {\n",
       "        vertical-align: top;\n",
       "    }\n",
       "\n",
       "    .dataframe thead th {\n",
       "        text-align: right;\n",
       "    }\n",
       "</style>\n",
       "<table border=\"1\" class=\"dataframe\">\n",
       "  <thead>\n",
       "    <tr style=\"text-align: right;\">\n",
       "      <th></th>\n",
       "      <th>CASE_STATUS</th>\n",
       "      <th>YEAR</th>\n",
       "      <th>WORKSITE</th>\n",
       "      <th>PREVAILING_WAGE_CATEGORY</th>\n",
       "      <th>EMPLOYER_ACCEPTANCE</th>\n",
       "      <th>JOB_ACCEPTANCE</th>\n",
       "      <th>SOC_ACCEPTANCE</th>\n",
       "      <th>FULL_TIME_POSITION</th>\n",
       "    </tr>\n",
       "  </thead>\n",
       "  <tbody>\n",
       "    <tr>\n",
       "      <th>38</th>\n",
       "      <td>0</td>\n",
       "      <td>2016</td>\n",
       "      <td>WASHINGTON</td>\n",
       "      <td>VERY HIGH</td>\n",
       "      <td>MA</td>\n",
       "      <td>LA</td>\n",
       "      <td>LA</td>\n",
       "      <td>Y</td>\n",
       "    </tr>\n",
       "    <tr>\n",
       "      <th>46</th>\n",
       "      <td>0</td>\n",
       "      <td>2016</td>\n",
       "      <td>CALIFORNIA</td>\n",
       "      <td>VERY HIGH</td>\n",
       "      <td>AR</td>\n",
       "      <td>LA</td>\n",
       "      <td>LA</td>\n",
       "      <td>Y</td>\n",
       "    </tr>\n",
       "    <tr>\n",
       "      <th>65</th>\n",
       "      <td>1</td>\n",
       "      <td>2016</td>\n",
       "      <td>VIRGINIA</td>\n",
       "      <td>VERY HIGH</td>\n",
       "      <td>MA</td>\n",
       "      <td>VHA</td>\n",
       "      <td>LA</td>\n",
       "      <td>Y</td>\n",
       "    </tr>\n",
       "    <tr>\n",
       "      <th>69</th>\n",
       "      <td>1</td>\n",
       "      <td>2016</td>\n",
       "      <td>TEXAS</td>\n",
       "      <td>VERY HIGH</td>\n",
       "      <td>VHA</td>\n",
       "      <td>LA</td>\n",
       "      <td>LA</td>\n",
       "      <td>Y</td>\n",
       "    </tr>\n",
       "    <tr>\n",
       "      <th>87</th>\n",
       "      <td>0</td>\n",
       "      <td>2016</td>\n",
       "      <td>MICHIGAN</td>\n",
       "      <td>HIGH</td>\n",
       "      <td>MA</td>\n",
       "      <td>LA</td>\n",
       "      <td>LA</td>\n",
       "      <td>Y</td>\n",
       "    </tr>\n",
       "  </tbody>\n",
       "</table>\n",
       "</div>"
      ],
      "text/plain": [
       "    CASE_STATUS  YEAR    WORKSITE PREVAILING_WAGE_CATEGORY  \\\n",
       "38            0  2016  WASHINGTON                VERY HIGH   \n",
       "46            0  2016  CALIFORNIA                VERY HIGH   \n",
       "65            1  2016    VIRGINIA                VERY HIGH   \n",
       "69            1  2016       TEXAS                VERY HIGH   \n",
       "87            0  2016    MICHIGAN                     HIGH   \n",
       "\n",
       "   EMPLOYER_ACCEPTANCE JOB_ACCEPTANCE SOC_ACCEPTANCE FULL_TIME_POSITION  \n",
       "38                  MA             LA             LA                  Y  \n",
       "46                  AR             LA             LA                  Y  \n",
       "65                  MA            VHA             LA                  Y  \n",
       "69                 VHA             LA             LA                  Y  \n",
       "87                  MA             LA             LA                  Y  "
      ]
     },
     "execution_count": 99,
     "metadata": {},
     "output_type": "execute_result"
    }
   ],
   "source": [
    "training_df['YEAR'] = training_df['YEAR'].astype('int')\n",
    "training_df.sort_index(inplace = True)\n",
    "training_df = training_df.loc[:, ['CASE_STATUS', 'YEAR','WORKSITE', 'PREVAILING_WAGE_CATEGORY','EMPLOYER_ACCEPTANCE',\\\n",
    "                                  'JOB_ACCEPTANCE', 'SOC_ACCEPTANCE', 'FULL_TIME_POSITION']]\n",
    "training_df.head()"
   ]
  },
  {
   "cell_type": "code",
   "execution_count": 101,
   "metadata": {},
   "outputs": [
    {
     "data": {
      "text/html": [
       "<div>\n",
       "<style scoped>\n",
       "    .dataframe tbody tr th:only-of-type {\n",
       "        vertical-align: middle;\n",
       "    }\n",
       "\n",
       "    .dataframe tbody tr th {\n",
       "        vertical-align: top;\n",
       "    }\n",
       "\n",
       "    .dataframe thead th {\n",
       "        text-align: right;\n",
       "    }\n",
       "</style>\n",
       "<table border=\"1\" class=\"dataframe\">\n",
       "  <thead>\n",
       "    <tr style=\"text-align: right;\">\n",
       "      <th></th>\n",
       "      <th>CASE_STATUS</th>\n",
       "      <th>YEAR_2012</th>\n",
       "      <th>YEAR_2013</th>\n",
       "      <th>YEAR_2014</th>\n",
       "      <th>YEAR_2015</th>\n",
       "      <th>YEAR_2016</th>\n",
       "      <th>WORKSITE_ALASKA</th>\n",
       "      <th>WORKSITE_ARIZONA</th>\n",
       "      <th>WORKSITE_ARKANSAS</th>\n",
       "      <th>WORKSITE_CALIFORNIA</th>\n",
       "      <th>...</th>\n",
       "      <th>JOB_ACCEPTANCE_HA</th>\n",
       "      <th>JOB_ACCEPTANCE_LA</th>\n",
       "      <th>JOB_ACCEPTANCE_MA</th>\n",
       "      <th>JOB_ACCEPTANCE_VHA</th>\n",
       "      <th>JOB_ACCEPTANCE_VLA</th>\n",
       "      <th>SOC_ACCEPTANCE_HA</th>\n",
       "      <th>SOC_ACCEPTANCE_LA</th>\n",
       "      <th>SOC_ACCEPTANCE_MA</th>\n",
       "      <th>SOC_ACCEPTANCE_VHA</th>\n",
       "      <th>SOC_ACCEPTANCE_VLA</th>\n",
       "    </tr>\n",
       "  </thead>\n",
       "  <tbody>\n",
       "    <tr>\n",
       "      <th>38</th>\n",
       "      <td>0</td>\n",
       "      <td>0</td>\n",
       "      <td>0</td>\n",
       "      <td>0</td>\n",
       "      <td>0</td>\n",
       "      <td>1</td>\n",
       "      <td>0</td>\n",
       "      <td>0</td>\n",
       "      <td>0</td>\n",
       "      <td>0</td>\n",
       "      <td>...</td>\n",
       "      <td>0</td>\n",
       "      <td>1</td>\n",
       "      <td>0</td>\n",
       "      <td>0</td>\n",
       "      <td>0</td>\n",
       "      <td>0</td>\n",
       "      <td>1</td>\n",
       "      <td>0</td>\n",
       "      <td>0</td>\n",
       "      <td>0</td>\n",
       "    </tr>\n",
       "    <tr>\n",
       "      <th>46</th>\n",
       "      <td>0</td>\n",
       "      <td>0</td>\n",
       "      <td>0</td>\n",
       "      <td>0</td>\n",
       "      <td>0</td>\n",
       "      <td>1</td>\n",
       "      <td>0</td>\n",
       "      <td>0</td>\n",
       "      <td>0</td>\n",
       "      <td>1</td>\n",
       "      <td>...</td>\n",
       "      <td>0</td>\n",
       "      <td>1</td>\n",
       "      <td>0</td>\n",
       "      <td>0</td>\n",
       "      <td>0</td>\n",
       "      <td>0</td>\n",
       "      <td>1</td>\n",
       "      <td>0</td>\n",
       "      <td>0</td>\n",
       "      <td>0</td>\n",
       "    </tr>\n",
       "    <tr>\n",
       "      <th>65</th>\n",
       "      <td>1</td>\n",
       "      <td>0</td>\n",
       "      <td>0</td>\n",
       "      <td>0</td>\n",
       "      <td>0</td>\n",
       "      <td>1</td>\n",
       "      <td>0</td>\n",
       "      <td>0</td>\n",
       "      <td>0</td>\n",
       "      <td>0</td>\n",
       "      <td>...</td>\n",
       "      <td>0</td>\n",
       "      <td>0</td>\n",
       "      <td>0</td>\n",
       "      <td>1</td>\n",
       "      <td>0</td>\n",
       "      <td>0</td>\n",
       "      <td>1</td>\n",
       "      <td>0</td>\n",
       "      <td>0</td>\n",
       "      <td>0</td>\n",
       "    </tr>\n",
       "    <tr>\n",
       "      <th>69</th>\n",
       "      <td>1</td>\n",
       "      <td>0</td>\n",
       "      <td>0</td>\n",
       "      <td>0</td>\n",
       "      <td>0</td>\n",
       "      <td>1</td>\n",
       "      <td>0</td>\n",
       "      <td>0</td>\n",
       "      <td>0</td>\n",
       "      <td>0</td>\n",
       "      <td>...</td>\n",
       "      <td>0</td>\n",
       "      <td>1</td>\n",
       "      <td>0</td>\n",
       "      <td>0</td>\n",
       "      <td>0</td>\n",
       "      <td>0</td>\n",
       "      <td>1</td>\n",
       "      <td>0</td>\n",
       "      <td>0</td>\n",
       "      <td>0</td>\n",
       "    </tr>\n",
       "    <tr>\n",
       "      <th>87</th>\n",
       "      <td>0</td>\n",
       "      <td>0</td>\n",
       "      <td>0</td>\n",
       "      <td>0</td>\n",
       "      <td>0</td>\n",
       "      <td>1</td>\n",
       "      <td>0</td>\n",
       "      <td>0</td>\n",
       "      <td>0</td>\n",
       "      <td>0</td>\n",
       "      <td>...</td>\n",
       "      <td>0</td>\n",
       "      <td>1</td>\n",
       "      <td>0</td>\n",
       "      <td>0</td>\n",
       "      <td>0</td>\n",
       "      <td>0</td>\n",
       "      <td>1</td>\n",
       "      <td>0</td>\n",
       "      <td>0</td>\n",
       "      <td>0</td>\n",
       "    </tr>\n",
       "  </tbody>\n",
       "</table>\n",
       "<p>5 rows × 77 columns</p>\n",
       "</div>"
      ],
      "text/plain": [
       "    CASE_STATUS  YEAR_2012  YEAR_2013  YEAR_2014  YEAR_2015  YEAR_2016  \\\n",
       "38            0          0          0          0          0          1   \n",
       "46            0          0          0          0          0          1   \n",
       "65            1          0          0          0          0          1   \n",
       "69            1          0          0          0          0          1   \n",
       "87            0          0          0          0          0          1   \n",
       "\n",
       "    WORKSITE_ALASKA  WORKSITE_ARIZONA  WORKSITE_ARKANSAS  WORKSITE_CALIFORNIA  \\\n",
       "38                0                 0                  0                    0   \n",
       "46                0                 0                  0                    1   \n",
       "65                0                 0                  0                    0   \n",
       "69                0                 0                  0                    0   \n",
       "87                0                 0                  0                    0   \n",
       "\n",
       "    ...  JOB_ACCEPTANCE_HA  JOB_ACCEPTANCE_LA  JOB_ACCEPTANCE_MA  \\\n",
       "38  ...                  0                  1                  0   \n",
       "46  ...                  0                  1                  0   \n",
       "65  ...                  0                  0                  0   \n",
       "69  ...                  0                  1                  0   \n",
       "87  ...                  0                  1                  0   \n",
       "\n",
       "    JOB_ACCEPTANCE_VHA  JOB_ACCEPTANCE_VLA  SOC_ACCEPTANCE_HA  \\\n",
       "38                   0                   0                  0   \n",
       "46                   0                   0                  0   \n",
       "65                   1                   0                  0   \n",
       "69                   0                   0                  0   \n",
       "87                   0                   0                  0   \n",
       "\n",
       "    SOC_ACCEPTANCE_LA  SOC_ACCEPTANCE_MA  SOC_ACCEPTANCE_VHA  \\\n",
       "38                  1                  0                   0   \n",
       "46                  1                  0                   0   \n",
       "65                  1                  0                   0   \n",
       "69                  1                  0                   0   \n",
       "87                  1                  0                   0   \n",
       "\n",
       "    SOC_ACCEPTANCE_VLA  \n",
       "38                   0  \n",
       "46                   0  \n",
       "65                   0  \n",
       "69                   0  \n",
       "87                   0  \n",
       "\n",
       "[5 rows x 77 columns]"
      ]
     },
     "execution_count": 101,
     "metadata": {},
     "output_type": "execute_result"
    }
   ],
   "source": [
    "final_dataframe_training = pd.get_dummies(training_df, columns=['YEAR', 'WORKSITE', 'FULL_TIME_POSITION', 'PREVAILING_WAGE_CATEGORY', 'EMPLOYER_ACCEPTANCE',\n",
    "                                                             \n",
    "                                                                'JOB_ACCEPTANCE', 'SOC_ACCEPTANCE' ], drop_first=True)\n",
    "final_dataframe_training.head()"
   ]
  },
  {
   "cell_type": "code",
   "execution_count": 103,
   "metadata": {},
   "outputs": [
    {
     "name": "stderr",
     "output_type": "stream",
     "text": [
      "/Users/jyotipatel/opt/anaconda3/lib/python3.8/site-packages/sklearn/utils/validation.py:67: FutureWarning: Pass n_features_to_select=30 as keyword args. From version 0.25 passing these as positional arguments will result in an error\n",
      "  warnings.warn(\"Pass {} as keyword args. From version 0.25 \"\n",
      "/Users/jyotipatel/opt/anaconda3/lib/python3.8/site-packages/sklearn/linear_model/_logistic.py:762: ConvergenceWarning: lbfgs failed to converge (status=1):\n",
      "STOP: TOTAL NO. of ITERATIONS REACHED LIMIT.\n",
      "\n",
      "Increase the number of iterations (max_iter) or scale the data as shown in:\n",
      "    https://scikit-learn.org/stable/modules/preprocessing.html\n",
      "Please also refer to the documentation for alternative solver options:\n",
      "    https://scikit-learn.org/stable/modules/linear_model.html#logistic-regression\n",
      "  n_iter_i = _check_optimize_result(\n",
      "/Users/jyotipatel/opt/anaconda3/lib/python3.8/site-packages/sklearn/linear_model/_logistic.py:762: ConvergenceWarning: lbfgs failed to converge (status=1):\n",
      "STOP: TOTAL NO. of ITERATIONS REACHED LIMIT.\n",
      "\n",
      "Increase the number of iterations (max_iter) or scale the data as shown in:\n",
      "    https://scikit-learn.org/stable/modules/preprocessing.html\n",
      "Please also refer to the documentation for alternative solver options:\n",
      "    https://scikit-learn.org/stable/modules/linear_model.html#logistic-regression\n",
      "  n_iter_i = _check_optimize_result(\n",
      "/Users/jyotipatel/opt/anaconda3/lib/python3.8/site-packages/sklearn/linear_model/_logistic.py:762: ConvergenceWarning: lbfgs failed to converge (status=1):\n",
      "STOP: TOTAL NO. of ITERATIONS REACHED LIMIT.\n",
      "\n",
      "Increase the number of iterations (max_iter) or scale the data as shown in:\n",
      "    https://scikit-learn.org/stable/modules/preprocessing.html\n",
      "Please also refer to the documentation for alternative solver options:\n",
      "    https://scikit-learn.org/stable/modules/linear_model.html#logistic-regression\n",
      "  n_iter_i = _check_optimize_result(\n",
      "/Users/jyotipatel/opt/anaconda3/lib/python3.8/site-packages/sklearn/linear_model/_logistic.py:762: ConvergenceWarning: lbfgs failed to converge (status=1):\n",
      "STOP: TOTAL NO. of ITERATIONS REACHED LIMIT.\n",
      "\n",
      "Increase the number of iterations (max_iter) or scale the data as shown in:\n",
      "    https://scikit-learn.org/stable/modules/preprocessing.html\n",
      "Please also refer to the documentation for alternative solver options:\n",
      "    https://scikit-learn.org/stable/modules/linear_model.html#logistic-regression\n",
      "  n_iter_i = _check_optimize_result(\n",
      "/Users/jyotipatel/opt/anaconda3/lib/python3.8/site-packages/sklearn/linear_model/_logistic.py:762: ConvergenceWarning: lbfgs failed to converge (status=1):\n",
      "STOP: TOTAL NO. of ITERATIONS REACHED LIMIT.\n",
      "\n",
      "Increase the number of iterations (max_iter) or scale the data as shown in:\n",
      "    https://scikit-learn.org/stable/modules/preprocessing.html\n",
      "Please also refer to the documentation for alternative solver options:\n",
      "    https://scikit-learn.org/stable/modules/linear_model.html#logistic-regression\n",
      "  n_iter_i = _check_optimize_result(\n",
      "/Users/jyotipatel/opt/anaconda3/lib/python3.8/site-packages/sklearn/linear_model/_logistic.py:762: ConvergenceWarning: lbfgs failed to converge (status=1):\n",
      "STOP: TOTAL NO. of ITERATIONS REACHED LIMIT.\n",
      "\n",
      "Increase the number of iterations (max_iter) or scale the data as shown in:\n",
      "    https://scikit-learn.org/stable/modules/preprocessing.html\n",
      "Please also refer to the documentation for alternative solver options:\n",
      "    https://scikit-learn.org/stable/modules/linear_model.html#logistic-regression\n",
      "  n_iter_i = _check_optimize_result(\n",
      "/Users/jyotipatel/opt/anaconda3/lib/python3.8/site-packages/sklearn/linear_model/_logistic.py:762: ConvergenceWarning: lbfgs failed to converge (status=1):\n",
      "STOP: TOTAL NO. of ITERATIONS REACHED LIMIT.\n",
      "\n",
      "Increase the number of iterations (max_iter) or scale the data as shown in:\n",
      "    https://scikit-learn.org/stable/modules/preprocessing.html\n",
      "Please also refer to the documentation for alternative solver options:\n",
      "    https://scikit-learn.org/stable/modules/linear_model.html#logistic-regression\n",
      "  n_iter_i = _check_optimize_result(\n",
      "/Users/jyotipatel/opt/anaconda3/lib/python3.8/site-packages/sklearn/linear_model/_logistic.py:762: ConvergenceWarning: lbfgs failed to converge (status=1):\n",
      "STOP: TOTAL NO. of ITERATIONS REACHED LIMIT.\n",
      "\n",
      "Increase the number of iterations (max_iter) or scale the data as shown in:\n",
      "    https://scikit-learn.org/stable/modules/preprocessing.html\n",
      "Please also refer to the documentation for alternative solver options:\n",
      "    https://scikit-learn.org/stable/modules/linear_model.html#logistic-regression\n",
      "  n_iter_i = _check_optimize_result(\n",
      "/Users/jyotipatel/opt/anaconda3/lib/python3.8/site-packages/sklearn/linear_model/_logistic.py:762: ConvergenceWarning: lbfgs failed to converge (status=1):\n",
      "STOP: TOTAL NO. of ITERATIONS REACHED LIMIT.\n",
      "\n",
      "Increase the number of iterations (max_iter) or scale the data as shown in:\n",
      "    https://scikit-learn.org/stable/modules/preprocessing.html\n",
      "Please also refer to the documentation for alternative solver options:\n",
      "    https://scikit-learn.org/stable/modules/linear_model.html#logistic-regression\n",
      "  n_iter_i = _check_optimize_result(\n",
      "/Users/jyotipatel/opt/anaconda3/lib/python3.8/site-packages/sklearn/linear_model/_logistic.py:762: ConvergenceWarning: lbfgs failed to converge (status=1):\n",
      "STOP: TOTAL NO. of ITERATIONS REACHED LIMIT.\n",
      "\n",
      "Increase the number of iterations (max_iter) or scale the data as shown in:\n",
      "    https://scikit-learn.org/stable/modules/preprocessing.html\n",
      "Please also refer to the documentation for alternative solver options:\n",
      "    https://scikit-learn.org/stable/modules/linear_model.html#logistic-regression\n",
      "  n_iter_i = _check_optimize_result(\n",
      "/Users/jyotipatel/opt/anaconda3/lib/python3.8/site-packages/sklearn/linear_model/_logistic.py:762: ConvergenceWarning: lbfgs failed to converge (status=1):\n",
      "STOP: TOTAL NO. of ITERATIONS REACHED LIMIT.\n",
      "\n",
      "Increase the number of iterations (max_iter) or scale the data as shown in:\n",
      "    https://scikit-learn.org/stable/modules/preprocessing.html\n",
      "Please also refer to the documentation for alternative solver options:\n",
      "    https://scikit-learn.org/stable/modules/linear_model.html#logistic-regression\n",
      "  n_iter_i = _check_optimize_result(\n",
      "/Users/jyotipatel/opt/anaconda3/lib/python3.8/site-packages/sklearn/linear_model/_logistic.py:762: ConvergenceWarning: lbfgs failed to converge (status=1):\n",
      "STOP: TOTAL NO. of ITERATIONS REACHED LIMIT.\n",
      "\n",
      "Increase the number of iterations (max_iter) or scale the data as shown in:\n",
      "    https://scikit-learn.org/stable/modules/preprocessing.html\n",
      "Please also refer to the documentation for alternative solver options:\n",
      "    https://scikit-learn.org/stable/modules/linear_model.html#logistic-regression\n",
      "  n_iter_i = _check_optimize_result(\n",
      "/Users/jyotipatel/opt/anaconda3/lib/python3.8/site-packages/sklearn/linear_model/_logistic.py:762: ConvergenceWarning: lbfgs failed to converge (status=1):\n",
      "STOP: TOTAL NO. of ITERATIONS REACHED LIMIT.\n",
      "\n",
      "Increase the number of iterations (max_iter) or scale the data as shown in:\n",
      "    https://scikit-learn.org/stable/modules/preprocessing.html\n",
      "Please also refer to the documentation for alternative solver options:\n",
      "    https://scikit-learn.org/stable/modules/linear_model.html#logistic-regression\n",
      "  n_iter_i = _check_optimize_result(\n",
      "/Users/jyotipatel/opt/anaconda3/lib/python3.8/site-packages/sklearn/linear_model/_logistic.py:762: ConvergenceWarning: lbfgs failed to converge (status=1):\n",
      "STOP: TOTAL NO. of ITERATIONS REACHED LIMIT.\n",
      "\n",
      "Increase the number of iterations (max_iter) or scale the data as shown in:\n",
      "    https://scikit-learn.org/stable/modules/preprocessing.html\n",
      "Please also refer to the documentation for alternative solver options:\n",
      "    https://scikit-learn.org/stable/modules/linear_model.html#logistic-regression\n",
      "  n_iter_i = _check_optimize_result(\n",
      "/Users/jyotipatel/opt/anaconda3/lib/python3.8/site-packages/sklearn/linear_model/_logistic.py:762: ConvergenceWarning: lbfgs failed to converge (status=1):\n",
      "STOP: TOTAL NO. of ITERATIONS REACHED LIMIT.\n",
      "\n",
      "Increase the number of iterations (max_iter) or scale the data as shown in:\n",
      "    https://scikit-learn.org/stable/modules/preprocessing.html\n",
      "Please also refer to the documentation for alternative solver options:\n",
      "    https://scikit-learn.org/stable/modules/linear_model.html#logistic-regression\n",
      "  n_iter_i = _check_optimize_result(\n"
     ]
    },
    {
     "name": "stderr",
     "output_type": "stream",
     "text": [
      "/Users/jyotipatel/opt/anaconda3/lib/python3.8/site-packages/sklearn/linear_model/_logistic.py:762: ConvergenceWarning: lbfgs failed to converge (status=1):\n",
      "STOP: TOTAL NO. of ITERATIONS REACHED LIMIT.\n",
      "\n",
      "Increase the number of iterations (max_iter) or scale the data as shown in:\n",
      "    https://scikit-learn.org/stable/modules/preprocessing.html\n",
      "Please also refer to the documentation for alternative solver options:\n",
      "    https://scikit-learn.org/stable/modules/linear_model.html#logistic-regression\n",
      "  n_iter_i = _check_optimize_result(\n",
      "/Users/jyotipatel/opt/anaconda3/lib/python3.8/site-packages/sklearn/linear_model/_logistic.py:762: ConvergenceWarning: lbfgs failed to converge (status=1):\n",
      "STOP: TOTAL NO. of ITERATIONS REACHED LIMIT.\n",
      "\n",
      "Increase the number of iterations (max_iter) or scale the data as shown in:\n",
      "    https://scikit-learn.org/stable/modules/preprocessing.html\n",
      "Please also refer to the documentation for alternative solver options:\n",
      "    https://scikit-learn.org/stable/modules/linear_model.html#logistic-regression\n",
      "  n_iter_i = _check_optimize_result(\n",
      "/Users/jyotipatel/opt/anaconda3/lib/python3.8/site-packages/sklearn/linear_model/_logistic.py:762: ConvergenceWarning: lbfgs failed to converge (status=1):\n",
      "STOP: TOTAL NO. of ITERATIONS REACHED LIMIT.\n",
      "\n",
      "Increase the number of iterations (max_iter) or scale the data as shown in:\n",
      "    https://scikit-learn.org/stable/modules/preprocessing.html\n",
      "Please also refer to the documentation for alternative solver options:\n",
      "    https://scikit-learn.org/stable/modules/linear_model.html#logistic-regression\n",
      "  n_iter_i = _check_optimize_result(\n",
      "/Users/jyotipatel/opt/anaconda3/lib/python3.8/site-packages/sklearn/linear_model/_logistic.py:762: ConvergenceWarning: lbfgs failed to converge (status=1):\n",
      "STOP: TOTAL NO. of ITERATIONS REACHED LIMIT.\n",
      "\n",
      "Increase the number of iterations (max_iter) or scale the data as shown in:\n",
      "    https://scikit-learn.org/stable/modules/preprocessing.html\n",
      "Please also refer to the documentation for alternative solver options:\n",
      "    https://scikit-learn.org/stable/modules/linear_model.html#logistic-regression\n",
      "  n_iter_i = _check_optimize_result(\n",
      "/Users/jyotipatel/opt/anaconda3/lib/python3.8/site-packages/sklearn/linear_model/_logistic.py:762: ConvergenceWarning: lbfgs failed to converge (status=1):\n",
      "STOP: TOTAL NO. of ITERATIONS REACHED LIMIT.\n",
      "\n",
      "Increase the number of iterations (max_iter) or scale the data as shown in:\n",
      "    https://scikit-learn.org/stable/modules/preprocessing.html\n",
      "Please also refer to the documentation for alternative solver options:\n",
      "    https://scikit-learn.org/stable/modules/linear_model.html#logistic-regression\n",
      "  n_iter_i = _check_optimize_result(\n",
      "/Users/jyotipatel/opt/anaconda3/lib/python3.8/site-packages/sklearn/linear_model/_logistic.py:762: ConvergenceWarning: lbfgs failed to converge (status=1):\n",
      "STOP: TOTAL NO. of ITERATIONS REACHED LIMIT.\n",
      "\n",
      "Increase the number of iterations (max_iter) or scale the data as shown in:\n",
      "    https://scikit-learn.org/stable/modules/preprocessing.html\n",
      "Please also refer to the documentation for alternative solver options:\n",
      "    https://scikit-learn.org/stable/modules/linear_model.html#logistic-regression\n",
      "  n_iter_i = _check_optimize_result(\n",
      "/Users/jyotipatel/opt/anaconda3/lib/python3.8/site-packages/sklearn/linear_model/_logistic.py:762: ConvergenceWarning: lbfgs failed to converge (status=1):\n",
      "STOP: TOTAL NO. of ITERATIONS REACHED LIMIT.\n",
      "\n",
      "Increase the number of iterations (max_iter) or scale the data as shown in:\n",
      "    https://scikit-learn.org/stable/modules/preprocessing.html\n",
      "Please also refer to the documentation for alternative solver options:\n",
      "    https://scikit-learn.org/stable/modules/linear_model.html#logistic-regression\n",
      "  n_iter_i = _check_optimize_result(\n",
      "/Users/jyotipatel/opt/anaconda3/lib/python3.8/site-packages/sklearn/linear_model/_logistic.py:762: ConvergenceWarning: lbfgs failed to converge (status=1):\n",
      "STOP: TOTAL NO. of ITERATIONS REACHED LIMIT.\n",
      "\n",
      "Increase the number of iterations (max_iter) or scale the data as shown in:\n",
      "    https://scikit-learn.org/stable/modules/preprocessing.html\n",
      "Please also refer to the documentation for alternative solver options:\n",
      "    https://scikit-learn.org/stable/modules/linear_model.html#logistic-regression\n",
      "  n_iter_i = _check_optimize_result(\n",
      "/Users/jyotipatel/opt/anaconda3/lib/python3.8/site-packages/sklearn/linear_model/_logistic.py:762: ConvergenceWarning: lbfgs failed to converge (status=1):\n",
      "STOP: TOTAL NO. of ITERATIONS REACHED LIMIT.\n",
      "\n",
      "Increase the number of iterations (max_iter) or scale the data as shown in:\n",
      "    https://scikit-learn.org/stable/modules/preprocessing.html\n",
      "Please also refer to the documentation for alternative solver options:\n",
      "    https://scikit-learn.org/stable/modules/linear_model.html#logistic-regression\n",
      "  n_iter_i = _check_optimize_result(\n",
      "/Users/jyotipatel/opt/anaconda3/lib/python3.8/site-packages/sklearn/linear_model/_logistic.py:762: ConvergenceWarning: lbfgs failed to converge (status=1):\n",
      "STOP: TOTAL NO. of ITERATIONS REACHED LIMIT.\n",
      "\n",
      "Increase the number of iterations (max_iter) or scale the data as shown in:\n",
      "    https://scikit-learn.org/stable/modules/preprocessing.html\n",
      "Please also refer to the documentation for alternative solver options:\n",
      "    https://scikit-learn.org/stable/modules/linear_model.html#logistic-regression\n",
      "  n_iter_i = _check_optimize_result(\n",
      "/Users/jyotipatel/opt/anaconda3/lib/python3.8/site-packages/sklearn/linear_model/_logistic.py:762: ConvergenceWarning: lbfgs failed to converge (status=1):\n",
      "STOP: TOTAL NO. of ITERATIONS REACHED LIMIT.\n",
      "\n",
      "Increase the number of iterations (max_iter) or scale the data as shown in:\n",
      "    https://scikit-learn.org/stable/modules/preprocessing.html\n",
      "Please also refer to the documentation for alternative solver options:\n",
      "    https://scikit-learn.org/stable/modules/linear_model.html#logistic-regression\n",
      "  n_iter_i = _check_optimize_result(\n",
      "/Users/jyotipatel/opt/anaconda3/lib/python3.8/site-packages/sklearn/linear_model/_logistic.py:762: ConvergenceWarning: lbfgs failed to converge (status=1):\n",
      "STOP: TOTAL NO. of ITERATIONS REACHED LIMIT.\n",
      "\n",
      "Increase the number of iterations (max_iter) or scale the data as shown in:\n",
      "    https://scikit-learn.org/stable/modules/preprocessing.html\n",
      "Please also refer to the documentation for alternative solver options:\n",
      "    https://scikit-learn.org/stable/modules/linear_model.html#logistic-regression\n",
      "  n_iter_i = _check_optimize_result(\n",
      "/Users/jyotipatel/opt/anaconda3/lib/python3.8/site-packages/sklearn/linear_model/_logistic.py:762: ConvergenceWarning: lbfgs failed to converge (status=1):\n",
      "STOP: TOTAL NO. of ITERATIONS REACHED LIMIT.\n",
      "\n",
      "Increase the number of iterations (max_iter) or scale the data as shown in:\n",
      "    https://scikit-learn.org/stable/modules/preprocessing.html\n",
      "Please also refer to the documentation for alternative solver options:\n",
      "    https://scikit-learn.org/stable/modules/linear_model.html#logistic-regression\n",
      "  n_iter_i = _check_optimize_result(\n",
      "/Users/jyotipatel/opt/anaconda3/lib/python3.8/site-packages/sklearn/linear_model/_logistic.py:762: ConvergenceWarning: lbfgs failed to converge (status=1):\n",
      "STOP: TOTAL NO. of ITERATIONS REACHED LIMIT.\n",
      "\n",
      "Increase the number of iterations (max_iter) or scale the data as shown in:\n",
      "    https://scikit-learn.org/stable/modules/preprocessing.html\n",
      "Please also refer to the documentation for alternative solver options:\n",
      "    https://scikit-learn.org/stable/modules/linear_model.html#logistic-regression\n",
      "  n_iter_i = _check_optimize_result(\n",
      "/Users/jyotipatel/opt/anaconda3/lib/python3.8/site-packages/sklearn/linear_model/_logistic.py:762: ConvergenceWarning: lbfgs failed to converge (status=1):\n",
      "STOP: TOTAL NO. of ITERATIONS REACHED LIMIT.\n",
      "\n",
      "Increase the number of iterations (max_iter) or scale the data as shown in:\n",
      "    https://scikit-learn.org/stable/modules/preprocessing.html\n",
      "Please also refer to the documentation for alternative solver options:\n",
      "    https://scikit-learn.org/stable/modules/linear_model.html#logistic-regression\n",
      "  n_iter_i = _check_optimize_result(\n",
      "/Users/jyotipatel/opt/anaconda3/lib/python3.8/site-packages/sklearn/linear_model/_logistic.py:762: ConvergenceWarning: lbfgs failed to converge (status=1):\n",
      "STOP: TOTAL NO. of ITERATIONS REACHED LIMIT.\n",
      "\n",
      "Increase the number of iterations (max_iter) or scale the data as shown in:\n",
      "    https://scikit-learn.org/stable/modules/preprocessing.html\n",
      "Please also refer to the documentation for alternative solver options:\n",
      "    https://scikit-learn.org/stable/modules/linear_model.html#logistic-regression\n",
      "  n_iter_i = _check_optimize_result(\n"
     ]
    },
    {
     "name": "stderr",
     "output_type": "stream",
     "text": [
      "/Users/jyotipatel/opt/anaconda3/lib/python3.8/site-packages/sklearn/linear_model/_logistic.py:762: ConvergenceWarning: lbfgs failed to converge (status=1):\n",
      "STOP: TOTAL NO. of ITERATIONS REACHED LIMIT.\n",
      "\n",
      "Increase the number of iterations (max_iter) or scale the data as shown in:\n",
      "    https://scikit-learn.org/stable/modules/preprocessing.html\n",
      "Please also refer to the documentation for alternative solver options:\n",
      "    https://scikit-learn.org/stable/modules/linear_model.html#logistic-regression\n",
      "  n_iter_i = _check_optimize_result(\n",
      "/Users/jyotipatel/opt/anaconda3/lib/python3.8/site-packages/sklearn/linear_model/_logistic.py:762: ConvergenceWarning: lbfgs failed to converge (status=1):\n",
      "STOP: TOTAL NO. of ITERATIONS REACHED LIMIT.\n",
      "\n",
      "Increase the number of iterations (max_iter) or scale the data as shown in:\n",
      "    https://scikit-learn.org/stable/modules/preprocessing.html\n",
      "Please also refer to the documentation for alternative solver options:\n",
      "    https://scikit-learn.org/stable/modules/linear_model.html#logistic-regression\n",
      "  n_iter_i = _check_optimize_result(\n",
      "/Users/jyotipatel/opt/anaconda3/lib/python3.8/site-packages/sklearn/linear_model/_logistic.py:762: ConvergenceWarning: lbfgs failed to converge (status=1):\n",
      "STOP: TOTAL NO. of ITERATIONS REACHED LIMIT.\n",
      "\n",
      "Increase the number of iterations (max_iter) or scale the data as shown in:\n",
      "    https://scikit-learn.org/stable/modules/preprocessing.html\n",
      "Please also refer to the documentation for alternative solver options:\n",
      "    https://scikit-learn.org/stable/modules/linear_model.html#logistic-regression\n",
      "  n_iter_i = _check_optimize_result(\n",
      "/Users/jyotipatel/opt/anaconda3/lib/python3.8/site-packages/sklearn/linear_model/_logistic.py:762: ConvergenceWarning: lbfgs failed to converge (status=1):\n",
      "STOP: TOTAL NO. of ITERATIONS REACHED LIMIT.\n",
      "\n",
      "Increase the number of iterations (max_iter) or scale the data as shown in:\n",
      "    https://scikit-learn.org/stable/modules/preprocessing.html\n",
      "Please also refer to the documentation for alternative solver options:\n",
      "    https://scikit-learn.org/stable/modules/linear_model.html#logistic-regression\n",
      "  n_iter_i = _check_optimize_result(\n",
      "/Users/jyotipatel/opt/anaconda3/lib/python3.8/site-packages/sklearn/linear_model/_logistic.py:762: ConvergenceWarning: lbfgs failed to converge (status=1):\n",
      "STOP: TOTAL NO. of ITERATIONS REACHED LIMIT.\n",
      "\n",
      "Increase the number of iterations (max_iter) or scale the data as shown in:\n",
      "    https://scikit-learn.org/stable/modules/preprocessing.html\n",
      "Please also refer to the documentation for alternative solver options:\n",
      "    https://scikit-learn.org/stable/modules/linear_model.html#logistic-regression\n",
      "  n_iter_i = _check_optimize_result(\n",
      "/Users/jyotipatel/opt/anaconda3/lib/python3.8/site-packages/sklearn/linear_model/_logistic.py:762: ConvergenceWarning: lbfgs failed to converge (status=1):\n",
      "STOP: TOTAL NO. of ITERATIONS REACHED LIMIT.\n",
      "\n",
      "Increase the number of iterations (max_iter) or scale the data as shown in:\n",
      "    https://scikit-learn.org/stable/modules/preprocessing.html\n",
      "Please also refer to the documentation for alternative solver options:\n",
      "    https://scikit-learn.org/stable/modules/linear_model.html#logistic-regression\n",
      "  n_iter_i = _check_optimize_result(\n",
      "/Users/jyotipatel/opt/anaconda3/lib/python3.8/site-packages/sklearn/linear_model/_logistic.py:762: ConvergenceWarning: lbfgs failed to converge (status=1):\n",
      "STOP: TOTAL NO. of ITERATIONS REACHED LIMIT.\n",
      "\n",
      "Increase the number of iterations (max_iter) or scale the data as shown in:\n",
      "    https://scikit-learn.org/stable/modules/preprocessing.html\n",
      "Please also refer to the documentation for alternative solver options:\n",
      "    https://scikit-learn.org/stable/modules/linear_model.html#logistic-regression\n",
      "  n_iter_i = _check_optimize_result(\n",
      "/Users/jyotipatel/opt/anaconda3/lib/python3.8/site-packages/sklearn/linear_model/_logistic.py:762: ConvergenceWarning: lbfgs failed to converge (status=1):\n",
      "STOP: TOTAL NO. of ITERATIONS REACHED LIMIT.\n",
      "\n",
      "Increase the number of iterations (max_iter) or scale the data as shown in:\n",
      "    https://scikit-learn.org/stable/modules/preprocessing.html\n",
      "Please also refer to the documentation for alternative solver options:\n",
      "    https://scikit-learn.org/stable/modules/linear_model.html#logistic-regression\n",
      "  n_iter_i = _check_optimize_result(\n",
      "/Users/jyotipatel/opt/anaconda3/lib/python3.8/site-packages/sklearn/linear_model/_logistic.py:762: ConvergenceWarning: lbfgs failed to converge (status=1):\n",
      "STOP: TOTAL NO. of ITERATIONS REACHED LIMIT.\n",
      "\n",
      "Increase the number of iterations (max_iter) or scale the data as shown in:\n",
      "    https://scikit-learn.org/stable/modules/preprocessing.html\n",
      "Please also refer to the documentation for alternative solver options:\n",
      "    https://scikit-learn.org/stable/modules/linear_model.html#logistic-regression\n",
      "  n_iter_i = _check_optimize_result(\n",
      "/Users/jyotipatel/opt/anaconda3/lib/python3.8/site-packages/sklearn/linear_model/_logistic.py:762: ConvergenceWarning: lbfgs failed to converge (status=1):\n",
      "STOP: TOTAL NO. of ITERATIONS REACHED LIMIT.\n",
      "\n",
      "Increase the number of iterations (max_iter) or scale the data as shown in:\n",
      "    https://scikit-learn.org/stable/modules/preprocessing.html\n",
      "Please also refer to the documentation for alternative solver options:\n",
      "    https://scikit-learn.org/stable/modules/linear_model.html#logistic-regression\n",
      "  n_iter_i = _check_optimize_result(\n",
      "/Users/jyotipatel/opt/anaconda3/lib/python3.8/site-packages/sklearn/linear_model/_logistic.py:762: ConvergenceWarning: lbfgs failed to converge (status=1):\n",
      "STOP: TOTAL NO. of ITERATIONS REACHED LIMIT.\n",
      "\n",
      "Increase the number of iterations (max_iter) or scale the data as shown in:\n",
      "    https://scikit-learn.org/stable/modules/preprocessing.html\n",
      "Please also refer to the documentation for alternative solver options:\n",
      "    https://scikit-learn.org/stable/modules/linear_model.html#logistic-regression\n",
      "  n_iter_i = _check_optimize_result(\n",
      "/Users/jyotipatel/opt/anaconda3/lib/python3.8/site-packages/sklearn/linear_model/_logistic.py:762: ConvergenceWarning: lbfgs failed to converge (status=1):\n",
      "STOP: TOTAL NO. of ITERATIONS REACHED LIMIT.\n",
      "\n",
      "Increase the number of iterations (max_iter) or scale the data as shown in:\n",
      "    https://scikit-learn.org/stable/modules/preprocessing.html\n",
      "Please also refer to the documentation for alternative solver options:\n",
      "    https://scikit-learn.org/stable/modules/linear_model.html#logistic-regression\n",
      "  n_iter_i = _check_optimize_result(\n",
      "/Users/jyotipatel/opt/anaconda3/lib/python3.8/site-packages/sklearn/linear_model/_logistic.py:762: ConvergenceWarning: lbfgs failed to converge (status=1):\n",
      "STOP: TOTAL NO. of ITERATIONS REACHED LIMIT.\n",
      "\n",
      "Increase the number of iterations (max_iter) or scale the data as shown in:\n",
      "    https://scikit-learn.org/stable/modules/preprocessing.html\n",
      "Please also refer to the documentation for alternative solver options:\n",
      "    https://scikit-learn.org/stable/modules/linear_model.html#logistic-regression\n",
      "  n_iter_i = _check_optimize_result(\n",
      "/Users/jyotipatel/opt/anaconda3/lib/python3.8/site-packages/sklearn/linear_model/_logistic.py:762: ConvergenceWarning: lbfgs failed to converge (status=1):\n",
      "STOP: TOTAL NO. of ITERATIONS REACHED LIMIT.\n",
      "\n",
      "Increase the number of iterations (max_iter) or scale the data as shown in:\n",
      "    https://scikit-learn.org/stable/modules/preprocessing.html\n",
      "Please also refer to the documentation for alternative solver options:\n",
      "    https://scikit-learn.org/stable/modules/linear_model.html#logistic-regression\n",
      "  n_iter_i = _check_optimize_result(\n",
      "/Users/jyotipatel/opt/anaconda3/lib/python3.8/site-packages/sklearn/linear_model/_logistic.py:762: ConvergenceWarning: lbfgs failed to converge (status=1):\n",
      "STOP: TOTAL NO. of ITERATIONS REACHED LIMIT.\n",
      "\n",
      "Increase the number of iterations (max_iter) or scale the data as shown in:\n",
      "    https://scikit-learn.org/stable/modules/preprocessing.html\n",
      "Please also refer to the documentation for alternative solver options:\n",
      "    https://scikit-learn.org/stable/modules/linear_model.html#logistic-regression\n",
      "  n_iter_i = _check_optimize_result(\n"
     ]
    },
    {
     "name": "stdout",
     "output_type": "stream",
     "text": [
      "['YEAR_2012', 'YEAR_2013', 'YEAR_2014', 'YEAR_2015', 'YEAR_2016', 'WORKSITE_MAINE', 'WORKSITE_MONTANA', 'WORKSITE_NEBRASKA', 'WORKSITE_NEW HAMPSHIRE', 'WORKSITE_NORTH DAKOTA', 'WORKSITE_OKLAHOMA', 'WORKSITE_PUERTO RICO', 'WORKSITE_SOUTH CAROLINA', 'WORKSITE_WYOMING', 'PREVAILING_WAGE_CATEGORY_VERY HIGH', 'EMPLOYER_ACCEPTANCE_HA', 'EMPLOYER_ACCEPTANCE_LA', 'EMPLOYER_ACCEPTANCE_MA', 'EMPLOYER_ACCEPTANCE_VHA', 'EMPLOYER_ACCEPTANCE_VLA', 'JOB_ACCEPTANCE_HA', 'JOB_ACCEPTANCE_LA', 'JOB_ACCEPTANCE_MA', 'JOB_ACCEPTANCE_VHA', 'JOB_ACCEPTANCE_VLA', 'SOC_ACCEPTANCE_HA', 'SOC_ACCEPTANCE_LA', 'SOC_ACCEPTANCE_MA', 'SOC_ACCEPTANCE_VHA', 'SOC_ACCEPTANCE_VLA']\n",
      "[ 1  1  1  1  1 45 36 11 28 14 30 29 12 10 17 46 34 27  3  7  4  5 18  1\n",
      " 32 38 26 44 22 15  1  1 35  1 39 19 31 23  1 40  1  6 33  1 20  1  8 25\n",
      " 41 13 47 42 43 16  9  1  2 24 37  1 21  1  1  1  1  1  1  1  1  1  1  1\n",
      "  1  1  1  1]\n"
     ]
    },
    {
     "name": "stderr",
     "output_type": "stream",
     "text": [
      "/Users/jyotipatel/opt/anaconda3/lib/python3.8/site-packages/sklearn/linear_model/_logistic.py:762: ConvergenceWarning: lbfgs failed to converge (status=1):\n",
      "STOP: TOTAL NO. of ITERATIONS REACHED LIMIT.\n",
      "\n",
      "Increase the number of iterations (max_iter) or scale the data as shown in:\n",
      "    https://scikit-learn.org/stable/modules/preprocessing.html\n",
      "Please also refer to the documentation for alternative solver options:\n",
      "    https://scikit-learn.org/stable/modules/linear_model.html#logistic-regression\n",
      "  n_iter_i = _check_optimize_result(\n"
     ]
    }
   ],
   "source": [
    "classifer_model = LogisticRegression()\n",
    "lr_rfe = RFE(classifer_model, 30)\n",
    "fit = lr_rfe.fit(final_dataframe_training.iloc[:,1:], final_dataframe_training.iloc[:,0])\n",
    "supporting_rfe = lr_rfe.support_\n",
    "column_length = list(final_dataframe_training.iloc[:,1:].columns.values)\n",
    "listing_selected = []\n",
    "for index in range(len(column_length)):\n",
    "    if supporting_rfe[index] == True:\n",
    "        listing_selected.append(column_length[index])\n",
    "    else:\n",
    "        pass\n",
    "print(listing_selected)\n",
    "print(lr_rfe.ranking_)   \n",
    "\n",
    "# ref.ranking_ is returning the array with all positive integer values which is indicating\n",
    "#the attribute of rank of lower score and indicating a ranking of higjer value."
   ]
  },
  {
   "cell_type": "code",
   "execution_count": 107,
   "metadata": {},
   "outputs": [
    {
     "data": {
      "text/plain": [
       "{'EMPLOYER', 'JOB', 'PREVAILING', 'SOC', 'WORKSITE', 'YEAR'}"
      ]
     },
     "execution_count": 107,
     "metadata": {},
     "output_type": "execute_result"
    }
   ],
   "source": [
    "list_cols_unique = [col.split('_')[0] for col in listing_selected]\n",
    "set(list_cols_unique)"
   ]
  },
  {
   "cell_type": "code",
   "execution_count": 109,
   "metadata": {},
   "outputs": [
    {
     "data": {
      "text/plain": [
       "(20725,)"
      ]
     },
     "execution_count": 109,
     "metadata": {},
     "output_type": "execute_result"
    }
   ],
   "source": [
    "x_train, x_test, Y_train, Y_test = train_test_split(final_dataframe_training.iloc[:,1:], final_dataframe_training.iloc[:, 0], test_size = 0.20, random_state=1)\n",
    "#y_train[y_train==1].shape\n",
    "Y_test[Y_test==1].shape"
   ]
  },
  {
   "cell_type": "code",
   "execution_count": 110,
   "metadata": {},
   "outputs": [
    {
     "data": {
      "text/html": [
       "<div>\n",
       "<style scoped>\n",
       "    .dataframe tbody tr th:only-of-type {\n",
       "        vertical-align: middle;\n",
       "    }\n",
       "\n",
       "    .dataframe tbody tr th {\n",
       "        vertical-align: top;\n",
       "    }\n",
       "\n",
       "    .dataframe thead th {\n",
       "        text-align: right;\n",
       "    }\n",
       "</style>\n",
       "<table border=\"1\" class=\"dataframe\">\n",
       "  <thead>\n",
       "    <tr style=\"text-align: right;\">\n",
       "      <th></th>\n",
       "      <th>YEAR_2012</th>\n",
       "      <th>YEAR_2013</th>\n",
       "      <th>YEAR_2014</th>\n",
       "      <th>YEAR_2015</th>\n",
       "      <th>YEAR_2016</th>\n",
       "      <th>WORKSITE_ALASKA</th>\n",
       "      <th>WORKSITE_ARIZONA</th>\n",
       "      <th>WORKSITE_ARKANSAS</th>\n",
       "      <th>WORKSITE_CALIFORNIA</th>\n",
       "      <th>WORKSITE_COLORADO</th>\n",
       "      <th>...</th>\n",
       "      <th>JOB_ACCEPTANCE_HA</th>\n",
       "      <th>JOB_ACCEPTANCE_LA</th>\n",
       "      <th>JOB_ACCEPTANCE_MA</th>\n",
       "      <th>JOB_ACCEPTANCE_VHA</th>\n",
       "      <th>JOB_ACCEPTANCE_VLA</th>\n",
       "      <th>SOC_ACCEPTANCE_HA</th>\n",
       "      <th>SOC_ACCEPTANCE_LA</th>\n",
       "      <th>SOC_ACCEPTANCE_MA</th>\n",
       "      <th>SOC_ACCEPTANCE_VHA</th>\n",
       "      <th>SOC_ACCEPTANCE_VLA</th>\n",
       "    </tr>\n",
       "  </thead>\n",
       "  <tbody>\n",
       "    <tr>\n",
       "      <th>633887</th>\n",
       "      <td>0</td>\n",
       "      <td>0</td>\n",
       "      <td>0</td>\n",
       "      <td>1</td>\n",
       "      <td>0</td>\n",
       "      <td>0</td>\n",
       "      <td>0</td>\n",
       "      <td>0</td>\n",
       "      <td>0</td>\n",
       "      <td>0</td>\n",
       "      <td>...</td>\n",
       "      <td>0</td>\n",
       "      <td>0</td>\n",
       "      <td>0</td>\n",
       "      <td>0</td>\n",
       "      <td>0</td>\n",
       "      <td>1</td>\n",
       "      <td>0</td>\n",
       "      <td>0</td>\n",
       "      <td>0</td>\n",
       "      <td>0</td>\n",
       "    </tr>\n",
       "    <tr>\n",
       "      <th>1252692</th>\n",
       "      <td>0</td>\n",
       "      <td>1</td>\n",
       "      <td>0</td>\n",
       "      <td>0</td>\n",
       "      <td>0</td>\n",
       "      <td>0</td>\n",
       "      <td>0</td>\n",
       "      <td>0</td>\n",
       "      <td>1</td>\n",
       "      <td>0</td>\n",
       "      <td>...</td>\n",
       "      <td>1</td>\n",
       "      <td>0</td>\n",
       "      <td>0</td>\n",
       "      <td>0</td>\n",
       "      <td>0</td>\n",
       "      <td>0</td>\n",
       "      <td>0</td>\n",
       "      <td>1</td>\n",
       "      <td>0</td>\n",
       "      <td>0</td>\n",
       "    </tr>\n",
       "    <tr>\n",
       "      <th>1876235</th>\n",
       "      <td>0</td>\n",
       "      <td>0</td>\n",
       "      <td>0</td>\n",
       "      <td>0</td>\n",
       "      <td>0</td>\n",
       "      <td>0</td>\n",
       "      <td>0</td>\n",
       "      <td>0</td>\n",
       "      <td>1</td>\n",
       "      <td>0</td>\n",
       "      <td>...</td>\n",
       "      <td>0</td>\n",
       "      <td>0</td>\n",
       "      <td>0</td>\n",
       "      <td>0</td>\n",
       "      <td>0</td>\n",
       "      <td>0</td>\n",
       "      <td>0</td>\n",
       "      <td>1</td>\n",
       "      <td>0</td>\n",
       "      <td>0</td>\n",
       "    </tr>\n",
       "    <tr>\n",
       "      <th>255735</th>\n",
       "      <td>0</td>\n",
       "      <td>0</td>\n",
       "      <td>0</td>\n",
       "      <td>0</td>\n",
       "      <td>1</td>\n",
       "      <td>0</td>\n",
       "      <td>0</td>\n",
       "      <td>0</td>\n",
       "      <td>0</td>\n",
       "      <td>0</td>\n",
       "      <td>...</td>\n",
       "      <td>0</td>\n",
       "      <td>1</td>\n",
       "      <td>0</td>\n",
       "      <td>0</td>\n",
       "      <td>0</td>\n",
       "      <td>1</td>\n",
       "      <td>0</td>\n",
       "      <td>0</td>\n",
       "      <td>0</td>\n",
       "      <td>0</td>\n",
       "    </tr>\n",
       "    <tr>\n",
       "      <th>622101</th>\n",
       "      <td>0</td>\n",
       "      <td>0</td>\n",
       "      <td>0</td>\n",
       "      <td>1</td>\n",
       "      <td>0</td>\n",
       "      <td>0</td>\n",
       "      <td>0</td>\n",
       "      <td>0</td>\n",
       "      <td>0</td>\n",
       "      <td>0</td>\n",
       "      <td>...</td>\n",
       "      <td>1</td>\n",
       "      <td>0</td>\n",
       "      <td>0</td>\n",
       "      <td>0</td>\n",
       "      <td>0</td>\n",
       "      <td>1</td>\n",
       "      <td>0</td>\n",
       "      <td>0</td>\n",
       "      <td>0</td>\n",
       "      <td>0</td>\n",
       "    </tr>\n",
       "  </tbody>\n",
       "</table>\n",
       "<p>5 rows × 76 columns</p>\n",
       "</div>"
      ],
      "text/plain": [
       "         YEAR_2012  YEAR_2013  YEAR_2014  YEAR_2015  YEAR_2016  \\\n",
       "633887           0          0          0          1          0   \n",
       "1252692          0          1          0          0          0   \n",
       "1876235          0          0          0          0          0   \n",
       "255735           0          0          0          0          1   \n",
       "622101           0          0          0          1          0   \n",
       "\n",
       "         WORKSITE_ALASKA  WORKSITE_ARIZONA  WORKSITE_ARKANSAS  \\\n",
       "633887                 0                 0                  0   \n",
       "1252692                0                 0                  0   \n",
       "1876235                0                 0                  0   \n",
       "255735                 0                 0                  0   \n",
       "622101                 0                 0                  0   \n",
       "\n",
       "         WORKSITE_CALIFORNIA  WORKSITE_COLORADO  ...  JOB_ACCEPTANCE_HA  \\\n",
       "633887                     0                  0  ...                  0   \n",
       "1252692                    1                  0  ...                  1   \n",
       "1876235                    1                  0  ...                  0   \n",
       "255735                     0                  0  ...                  0   \n",
       "622101                     0                  0  ...                  1   \n",
       "\n",
       "         JOB_ACCEPTANCE_LA  JOB_ACCEPTANCE_MA  JOB_ACCEPTANCE_VHA  \\\n",
       "633887                   0                  0                   0   \n",
       "1252692                  0                  0                   0   \n",
       "1876235                  0                  0                   0   \n",
       "255735                   1                  0                   0   \n",
       "622101                   0                  0                   0   \n",
       "\n",
       "         JOB_ACCEPTANCE_VLA  SOC_ACCEPTANCE_HA  SOC_ACCEPTANCE_LA  \\\n",
       "633887                    0                  1                  0   \n",
       "1252692                   0                  0                  0   \n",
       "1876235                   0                  0                  0   \n",
       "255735                    0                  1                  0   \n",
       "622101                    0                  1                  0   \n",
       "\n",
       "         SOC_ACCEPTANCE_MA  SOC_ACCEPTANCE_VHA  SOC_ACCEPTANCE_VLA  \n",
       "633887                   0                   0                   0  \n",
       "1252692                  1                   0                   0  \n",
       "1876235                  1                   0                   0  \n",
       "255735                   0                   0                   0  \n",
       "622101                   0                   0                   0  \n",
       "\n",
       "[5 rows x 76 columns]"
      ]
     },
     "execution_count": 110,
     "metadata": {},
     "output_type": "execute_result"
    }
   ],
   "source": [
    "x_train.head()"
   ]
  },
  {
   "cell_type": "code",
   "execution_count": null,
   "metadata": {},
   "outputs": [],
   "source": [
    "#start from Training classifiers"
   ]
  }
 ],
 "metadata": {
  "kernelspec": {
   "display_name": "Python 3",
   "language": "python",
   "name": "python3"
  },
  "language_info": {
   "codemirror_mode": {
    "name": "ipython",
    "version": 3
   },
   "file_extension": ".py",
   "mimetype": "text/x-python",
   "name": "python",
   "nbconvert_exporter": "python",
   "pygments_lexer": "ipython3",
   "version": "3.8.5"
  }
 },
 "nbformat": 4,
 "nbformat_minor": 5
}
