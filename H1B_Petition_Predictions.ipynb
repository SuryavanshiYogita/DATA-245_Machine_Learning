{
 "cells": [
  {
   "cell_type": "markdown",
   "id": "mighty-perry",
   "metadata": {},
   "source": [
    "# H1B Petition Raw Data Loading"
   ]
  },
  {
   "cell_type": "code",
   "execution_count": 1,
   "id": "spanish-press",
   "metadata": {},
   "outputs": [
    {
     "name": "stdout",
     "output_type": "stream",
     "text": [
      "Once deleted, variables cannot be recovered. Proceed (y/[n])? y\n"
     ]
    }
   ],
   "source": [
    "%reset"
   ]
  },
  {
   "cell_type": "code",
   "execution_count": 2,
   "id": "detailed-cookbook",
   "metadata": {},
   "outputs": [],
   "source": [
    "#importing all the packages required for analysis\n",
    "import pandas as pd\n",
    "import numpy as np\n",
    "from sklearn import tree\n",
    "from sklearn import svm\n",
    "import sklearn.metrics as metrics\n",
    "from sklearn import preprocessing\n",
    "import sklearn.linear_model as linear_model\n",
    "from sklearn.ensemble import RandomForestClassifier\n",
    "from sklearn.neural_network import MLPClassifier\n",
    "from sklearn.naive_bayes import GaussianNB\n",
    "from sklearn.feature_selection import RFE\n",
    "from sklearn.linear_model import LogisticRegression\n",
    "from sklearn.model_selection import train_test_split\n",
    "import matplotlib.pyplot as plt\n",
    "import difflib as dff\n",
    "%matplotlib inline"
   ]
  },
  {
   "cell_type": "code",
   "execution_count": 3,
   "id": "based-married",
   "metadata": {},
   "outputs": [
    {
     "name": "stdout",
     "output_type": "stream",
     "text": [
      "H1B_Cleaned_data.csv\n"
     ]
    }
   ],
   "source": [
    "## import the data fill\n",
    "input_file = \"H1B_Cleaned_data.csv\"\n",
    "print(input_file)"
   ]
  },
  {
   "cell_type": "code",
   "execution_count": 4,
   "id": "monthly-survival",
   "metadata": {},
   "outputs": [],
   "source": [
    "## read the data file into a dataframe\n",
    "dataframe1 = pd.read_table(input_file, sep = ',')"
   ]
  },
  {
   "cell_type": "code",
   "execution_count": 5,
   "id": "spatial-connecticut",
   "metadata": {},
   "outputs": [
    {
     "data": {
      "text/plain": [
       "1956656"
      ]
     },
     "execution_count": 5,
     "metadata": {},
     "output_type": "execute_result"
    }
   ],
   "source": [
    "pd.set_option('display.max_colwidth', None)\n",
    "pd.options.mode.chained_assignment = None\n",
    "len(dataframe1)"
   ]
  },
  {
   "cell_type": "code",
   "execution_count": 6,
   "id": "proud-wales",
   "metadata": {},
   "outputs": [
    {
     "data": {
      "text/plain": [
       "Key                   False\n",
       "CASE_STATUS           False\n",
       "EMPLOYER_NAME         False\n",
       "SOC_NAME               True\n",
       "JOB_TITLE              True\n",
       "FULL_TIME_POSITION    False\n",
       "PREVAILING_WAGE       False\n",
       "YEAR                  False\n",
       "WORKSITE              False\n",
       "CITY                  False\n",
       "COUNTRY               False\n",
       "lon                   False\n",
       "lat                   False\n",
       "dtype: bool"
      ]
     },
     "execution_count": 6,
     "metadata": {},
     "output_type": "execute_result"
    }
   ],
   "source": [
    "dataframe1.isnull().any()\n",
    "#u_emp=dataframe1.EMPLOYER_NAME.unique()"
   ]
  },
  {
   "cell_type": "code",
   "execution_count": 7,
   "id": "comparative-uniform",
   "metadata": {},
   "outputs": [],
   "source": [
    "#print(dataframe1.loc[dataframe1['Key']==737430])\n",
    "#values=dataframe1['EMPLOYER_NAME'].isnull().values.any(axis=1)\n",
    "#print(values)\n",
    "#pd.set_option(\"display.max_rows\", None, \"display.max_columns\", None)\n",
    "#df=dataframe1[dataframe1.isnull().any(axis=1)]\n",
    "#print(df[['Key','EMPLOYER_NAME']])\n",
    "dataframe1.dropna(subset=['EMPLOYER_NAME','SOC_NAME','JOB_TITLE','COUNTRY'], inplace=True)"
   ]
  },
  {
   "cell_type": "code",
   "execution_count": 8,
   "id": "dramatic-egyptian",
   "metadata": {},
   "outputs": [
    {
     "data": {
      "text/plain": [
       "1956651"
      ]
     },
     "execution_count": 8,
     "metadata": {},
     "output_type": "execute_result"
    }
   ],
   "source": [
    "len(dataframe1)"
   ]
  },
  {
   "cell_type": "code",
   "execution_count": 9,
   "id": "received-concrete",
   "metadata": {},
   "outputs": [
    {
     "data": {
      "text/plain": [
       "Key                   False\n",
       "CASE_STATUS           False\n",
       "EMPLOYER_NAME         False\n",
       "SOC_NAME              False\n",
       "JOB_TITLE             False\n",
       "FULL_TIME_POSITION    False\n",
       "PREVAILING_WAGE       False\n",
       "YEAR                  False\n",
       "WORKSITE              False\n",
       "CITY                  False\n",
       "COUNTRY               False\n",
       "lon                   False\n",
       "lat                   False\n",
       "dtype: bool"
      ]
     },
     "execution_count": 9,
     "metadata": {},
     "output_type": "execute_result"
    }
   ],
   "source": [
    "dataframe1.isnull().any()"
   ]
  },
  {
   "cell_type": "code",
   "execution_count": 10,
   "id": "medium-degree",
   "metadata": {},
   "outputs": [
    {
     "data": {
      "text/html": [
       "<div>\n",
       "<style scoped>\n",
       "    .dataframe tbody tr th:only-of-type {\n",
       "        vertical-align: middle;\n",
       "    }\n",
       "\n",
       "    .dataframe tbody tr th {\n",
       "        vertical-align: top;\n",
       "    }\n",
       "\n",
       "    .dataframe thead th {\n",
       "        text-align: right;\n",
       "    }\n",
       "</style>\n",
       "<table border=\"1\" class=\"dataframe\">\n",
       "  <thead>\n",
       "    <tr style=\"text-align: right;\">\n",
       "      <th></th>\n",
       "      <th>Key</th>\n",
       "      <th>PREVAILING_WAGE</th>\n",
       "      <th>YEAR</th>\n",
       "      <th>lon</th>\n",
       "      <th>lat</th>\n",
       "    </tr>\n",
       "  </thead>\n",
       "  <tbody>\n",
       "    <tr>\n",
       "      <th>count</th>\n",
       "      <td>1.956651e+06</td>\n",
       "      <td>1.956651e+06</td>\n",
       "      <td>1.956651e+06</td>\n",
       "      <td>1.956651e+06</td>\n",
       "      <td>1.956651e+06</td>\n",
       "    </tr>\n",
       "    <tr>\n",
       "      <th>mean</th>\n",
       "      <td>1.551677e+06</td>\n",
       "      <td>1.785311e+05</td>\n",
       "      <td>2.013755e+03</td>\n",
       "      <td>-9.230953e+01</td>\n",
       "      <td>3.809976e+01</td>\n",
       "    </tr>\n",
       "    <tr>\n",
       "      <th>std</th>\n",
       "      <td>8.696917e+05</td>\n",
       "      <td>6.407989e+06</td>\n",
       "      <td>1.697588e+00</td>\n",
       "      <td>1.843174e+01</td>\n",
       "      <td>4.613862e+00</td>\n",
       "    </tr>\n",
       "    <tr>\n",
       "      <th>min</th>\n",
       "      <td>1.000000e+00</td>\n",
       "      <td>0.000000e+00</td>\n",
       "      <td>2.011000e+03</td>\n",
       "      <td>-1.578583e+02</td>\n",
       "      <td>1.820135e+01</td>\n",
       "    </tr>\n",
       "    <tr>\n",
       "      <th>25%</th>\n",
       "      <td>7.756840e+05</td>\n",
       "      <td>5.441300e+04</td>\n",
       "      <td>2.012000e+03</td>\n",
       "      <td>-1.119261e+02</td>\n",
       "      <td>3.417056e+01</td>\n",
       "    </tr>\n",
       "    <tr>\n",
       "      <th>50%</th>\n",
       "      <td>1.580893e+06</td>\n",
       "      <td>6.647700e+04</td>\n",
       "      <td>2.014000e+03</td>\n",
       "      <td>-8.615807e+01</td>\n",
       "      <td>3.905582e+01</td>\n",
       "    </tr>\n",
       "    <tr>\n",
       "      <th>75%</th>\n",
       "      <td>2.306926e+06</td>\n",
       "      <td>8.386600e+04</td>\n",
       "      <td>2.015000e+03</td>\n",
       "      <td>-7.553979e+01</td>\n",
       "      <td>4.086529e+01</td>\n",
       "    </tr>\n",
       "    <tr>\n",
       "      <th>max</th>\n",
       "      <td>3.002444e+06</td>\n",
       "      <td>6.997607e+09</td>\n",
       "      <td>2.016000e+03</td>\n",
       "      <td>-6.610574e+01</td>\n",
       "      <td>6.483778e+01</td>\n",
       "    </tr>\n",
       "  </tbody>\n",
       "</table>\n",
       "</div>"
      ],
      "text/plain": [
       "                Key  PREVAILING_WAGE          YEAR           lon           lat\n",
       "count  1.956651e+06     1.956651e+06  1.956651e+06  1.956651e+06  1.956651e+06\n",
       "mean   1.551677e+06     1.785311e+05  2.013755e+03 -9.230953e+01  3.809976e+01\n",
       "std    8.696917e+05     6.407989e+06  1.697588e+00  1.843174e+01  4.613862e+00\n",
       "min    1.000000e+00     0.000000e+00  2.011000e+03 -1.578583e+02  1.820135e+01\n",
       "25%    7.756840e+05     5.441300e+04  2.012000e+03 -1.119261e+02  3.417056e+01\n",
       "50%    1.580893e+06     6.647700e+04  2.014000e+03 -8.615807e+01  3.905582e+01\n",
       "75%    2.306926e+06     8.386600e+04  2.015000e+03 -7.553979e+01  4.086529e+01\n",
       "max    3.002444e+06     6.997607e+09  2.016000e+03 -6.610574e+01  6.483778e+01"
      ]
     },
     "execution_count": 10,
     "metadata": {},
     "output_type": "execute_result"
    }
   ],
   "source": [
    "dataframe1.describe()"
   ]
  },
  {
   "cell_type": "markdown",
   "id": "usual-morocco",
   "metadata": {},
   "source": [
    "# Preliminary Data Analysis and Preprocessing"
   ]
  },
  {
   "cell_type": "markdown",
   "id": "incredible-domestic",
   "metadata": {},
   "source": [
    "Analaysis #1 "
   ]
  },
  {
   "cell_type": "code",
   "execution_count": 11,
   "id": "extensive-congress",
   "metadata": {},
   "outputs": [
    {
     "data": {
      "image/png": "[encoded data removed]",
      "text/plain": [
       "<Figure size 576x504 with 1 Axes>"
      ]
     },
     "metadata": {
      "needs_background": "light"
     },
     "output_type": "display_data"
    },
    {
     "name": "stdout",
     "output_type": "stream",
     "text": [
      "CERTIFIED                                             1650982\n",
      "CERTIFIED-WITHDRAWN                                    156645\n",
      "DENIED                                                  75726\n",
      "WITHDRAWN                                               73281\n",
      "PENDING QUALITY AND COMPLIANCE REVIEW - UNASSIGNED         15\n",
      "REJECTED                                                    1\n",
      "INVALIDATED                                                 1\n",
      "Name: CASE_STATUS, dtype: int64\n"
     ]
    }
   ],
   "source": [
    "# Plotting a graph case status against Number of petition\n",
    "Status_petition_plot = dataframe1['CASE_STATUS'].value_counts().plot(title = 'Number of petitions vs Petition Case Status \\n',kind = 'bar', fontsize=12, color = 'purple',linewidth=2.0, figsize = (8, 7))\n",
    "Status_petition_plot.set_ylabel(\"Petition case status\\n\", fontsize=14)\n",
    "Status_petition_plot.set_xlabel(\"\\n # of petitions\\n\", fontsize=14)\n",
    "# Plots the graph\n",
    "\n",
    "for p in Status_petition_plot.patches:\n",
    "    Status_petition_plot.annotate(str(p.get_height()), (p.get_x() * 1.0050, p.get_height() * 1.005))\n",
    "plt.show()\n",
    "# Display the table\n",
    "print(dataframe1['CASE_STATUS'].value_counts())"
   ]
  },
  {
   "cell_type": "code",
   "execution_count": 12,
   "id": "fatal-shelter",
   "metadata": {},
   "outputs": [
    {
     "data": {
      "text/html": [
       "<div>\n",
       "<style scoped>\n",
       "    .dataframe tbody tr th:only-of-type {\n",
       "        vertical-align: middle;\n",
       "    }\n",
       "\n",
       "    .dataframe tbody tr th {\n",
       "        vertical-align: top;\n",
       "    }\n",
       "\n",
       "    .dataframe thead th {\n",
       "        text-align: right;\n",
       "    }\n",
       "</style>\n",
       "<table border=\"1\" class=\"dataframe\">\n",
       "  <thead>\n",
       "    <tr style=\"text-align: right;\">\n",
       "      <th></th>\n",
       "      <th>Key</th>\n",
       "      <th>CASE_STATUS</th>\n",
       "      <th>EMPLOYER_NAME</th>\n",
       "      <th>SOC_NAME</th>\n",
       "      <th>JOB_TITLE</th>\n",
       "      <th>FULL_TIME_POSITION</th>\n",
       "      <th>PREVAILING_WAGE</th>\n",
       "      <th>YEAR</th>\n",
       "      <th>WORKSITE</th>\n",
       "      <th>CITY</th>\n",
       "      <th>COUNTRY</th>\n",
       "      <th>lon</th>\n",
       "      <th>lat</th>\n",
       "    </tr>\n",
       "  </thead>\n",
       "  <tbody>\n",
       "    <tr>\n",
       "      <th>0</th>\n",
       "      <td>2643680</td>\n",
       "      <td>CERTIFIED</td>\n",
       "      <td>NYFIXINC</td>\n",
       "      <td>Computer Software Engineers, Applications</td>\n",
       "      <td>PROJECT MANAGER</td>\n",
       "      <td>Y</td>\n",
       "      <td>101088.0</td>\n",
       "      <td>2011</td>\n",
       "      <td>NEW YORK, NEW YORK</td>\n",
       "      <td>NEW YORK</td>\n",
       "      <td>NEW YORK</td>\n",
       "      <td>-74.005941</td>\n",
       "      <td>40.712784</td>\n",
       "    </tr>\n",
       "    <tr>\n",
       "      <th>2</th>\n",
       "      <td>2643682</td>\n",
       "      <td>CERTIFIED</td>\n",
       "      <td>AFRENUSAINC</td>\n",
       "      <td>Engineering Managers</td>\n",
       "      <td>DRILLING MANAGER</td>\n",
       "      <td>Y</td>\n",
       "      <td>165506.0</td>\n",
       "      <td>2011</td>\n",
       "      <td>THE WOODLANDS, TEXAS</td>\n",
       "      <td>THE WOODLANDS</td>\n",
       "      <td>TEXAS</td>\n",
       "      <td>-95.461263</td>\n",
       "      <td>30.165821</td>\n",
       "    </tr>\n",
       "    <tr>\n",
       "      <th>3</th>\n",
       "      <td>2643683</td>\n",
       "      <td>CERTIFIED</td>\n",
       "      <td>BAINSIGHTLLC</td>\n",
       "      <td>Computer Support Specialists</td>\n",
       "      <td>TECHNICAL SUPPORT ENGINEER</td>\n",
       "      <td>Y</td>\n",
       "      <td>62358.0</td>\n",
       "      <td>2011</td>\n",
       "      <td>BOSTON, MASSACHUSETTS</td>\n",
       "      <td>BOSTON</td>\n",
       "      <td>MASSACHUSETTS</td>\n",
       "      <td>-71.058880</td>\n",
       "      <td>42.360082</td>\n",
       "    </tr>\n",
       "    <tr>\n",
       "      <th>4</th>\n",
       "      <td>2643684</td>\n",
       "      <td>CERTIFIED</td>\n",
       "      <td>NIKEINC</td>\n",
       "      <td>Marketing Managers</td>\n",
       "      <td>SENIOR GLOBAL CATEGORY COMMERCE MANAGER</td>\n",
       "      <td>Y</td>\n",
       "      <td>111405.0</td>\n",
       "      <td>2011</td>\n",
       "      <td>BEAVERTON, OREGON</td>\n",
       "      <td>BEAVERTON</td>\n",
       "      <td>OREGON</td>\n",
       "      <td>-122.803710</td>\n",
       "      <td>45.487062</td>\n",
       "    </tr>\n",
       "    <tr>\n",
       "      <th>5</th>\n",
       "      <td>2643685</td>\n",
       "      <td>CERTIFIED</td>\n",
       "      <td>PENINSULAREGIONALMEDICALCENTER</td>\n",
       "      <td>Physicians and Surgeons, All Other</td>\n",
       "      <td>ENDOCRINOLOGIST</td>\n",
       "      <td>Y</td>\n",
       "      <td>99632.0</td>\n",
       "      <td>2011</td>\n",
       "      <td>SALISBURY, MARYLAND</td>\n",
       "      <td>SALISBURY</td>\n",
       "      <td>MARYLAND</td>\n",
       "      <td>-75.599369</td>\n",
       "      <td>38.360674</td>\n",
       "    </tr>\n",
       "  </tbody>\n",
       "</table>\n",
       "</div>"
      ],
      "text/plain": [
       "       Key CASE_STATUS                   EMPLOYER_NAME  \\\n",
       "0  2643680   CERTIFIED                        NYFIXINC   \n",
       "2  2643682   CERTIFIED                     AFRENUSAINC   \n",
       "3  2643683   CERTIFIED                    BAINSIGHTLLC   \n",
       "4  2643684   CERTIFIED                         NIKEINC   \n",
       "5  2643685   CERTIFIED  PENINSULAREGIONALMEDICALCENTER   \n",
       "\n",
       "                                    SOC_NAME  \\\n",
       "0  Computer Software Engineers, Applications   \n",
       "2                       Engineering Managers   \n",
       "3               Computer Support Specialists   \n",
       "4                         Marketing Managers   \n",
       "5         Physicians and Surgeons, All Other   \n",
       "\n",
       "                                 JOB_TITLE FULL_TIME_POSITION  \\\n",
       "0                          PROJECT MANAGER                  Y   \n",
       "2                         DRILLING MANAGER                  Y   \n",
       "3               TECHNICAL SUPPORT ENGINEER                  Y   \n",
       "4  SENIOR GLOBAL CATEGORY COMMERCE MANAGER                  Y   \n",
       "5                          ENDOCRINOLOGIST                  Y   \n",
       "\n",
       "   PREVAILING_WAGE  YEAR               WORKSITE           CITY        COUNTRY  \\\n",
       "0         101088.0  2011     NEW YORK, NEW YORK       NEW YORK       NEW YORK   \n",
       "2         165506.0  2011   THE WOODLANDS, TEXAS  THE WOODLANDS          TEXAS   \n",
       "3          62358.0  2011  BOSTON, MASSACHUSETTS         BOSTON  MASSACHUSETTS   \n",
       "4         111405.0  2011      BEAVERTON, OREGON      BEAVERTON         OREGON   \n",
       "5          99632.0  2011    SALISBURY, MARYLAND      SALISBURY       MARYLAND   \n",
       "\n",
       "          lon        lat  \n",
       "0  -74.005941  40.712784  \n",
       "2  -95.461263  30.165821  \n",
       "3  -71.058880  42.360082  \n",
       "4 -122.803710  45.487062  \n",
       "5  -75.599369  38.360674  "
      ]
     },
     "execution_count": 12,
     "metadata": {},
     "output_type": "execute_result"
    }
   ],
   "source": [
    "# Creating a temprary dataframe for only Certified, Denied and rejected cases\n",
    "Temp_dataframe = dataframe1.loc[dataframe1['CASE_STATUS'].isin([\"CERTIFIED\", \"DENIED\", \"REJECTED\"])]\n",
    "#Temp_dataframe=Temp_dataframe.sort_values(by=['YEAR'], ascending=True)\n",
    "Temp_dataframe.head(5)"
   ]
  },
  {
   "cell_type": "code",
   "execution_count": 13,
   "id": "unique-apache",
   "metadata": {},
   "outputs": [],
   "source": [
    "#datatype conversion and upper case formatting\n",
    "Temp_dataframe['YEAR'] = Temp_dataframe['YEAR'].astype(int)\n",
    "Temp_dataframe['EMPLOYER_NAME'] = Temp_dataframe['EMPLOYER_NAME'].str.upper()\n",
    "Temp_dataframe['SOC_NAME'] = Temp_dataframe['SOC_NAME'].str.upper()\n",
    "Temp_dataframe['JOB_TITLE'] = Temp_dataframe['JOB_TITLE'].str.upper()\n",
    "Temp_dataframe['FULL_TIME_POSITION'] = Temp_dataframe['FULL_TIME_POSITION'].str.upper()"
   ]
  },
  {
   "cell_type": "code",
   "execution_count": 14,
   "id": "statistical-satin",
   "metadata": {},
   "outputs": [
    {
     "data": {
      "text/html": [
       "<div>\n",
       "<style scoped>\n",
       "    .dataframe tbody tr th:only-of-type {\n",
       "        vertical-align: middle;\n",
       "    }\n",
       "\n",
       "    .dataframe tbody tr th {\n",
       "        vertical-align: top;\n",
       "    }\n",
       "\n",
       "    .dataframe thead th {\n",
       "        text-align: right;\n",
       "    }\n",
       "</style>\n",
       "<table border=\"1\" class=\"dataframe\">\n",
       "  <thead>\n",
       "    <tr style=\"text-align: right;\">\n",
       "      <th></th>\n",
       "      <th>Key</th>\n",
       "      <th>CASE_STATUS</th>\n",
       "      <th>EMPLOYER_NAME</th>\n",
       "      <th>SOC_NAME</th>\n",
       "      <th>JOB_TITLE</th>\n",
       "      <th>FULL_TIME_POSITION</th>\n",
       "      <th>PREVAILING_WAGE</th>\n",
       "      <th>YEAR</th>\n",
       "      <th>WORKSITE</th>\n",
       "      <th>CITY</th>\n",
       "      <th>COUNTRY</th>\n",
       "      <th>lon</th>\n",
       "      <th>lat</th>\n",
       "    </tr>\n",
       "  </thead>\n",
       "  <tbody>\n",
       "    <tr>\n",
       "      <th>0</th>\n",
       "      <td>2643680</td>\n",
       "      <td>CERTIFIED</td>\n",
       "      <td>NYFIXINC</td>\n",
       "      <td>COMPUTER SOFTWARE ENGINEERS, APPLICATIONS</td>\n",
       "      <td>PROJECT MANAGER</td>\n",
       "      <td>Y</td>\n",
       "      <td>101088.0</td>\n",
       "      <td>2011</td>\n",
       "      <td>NEW YORK, NEW YORK</td>\n",
       "      <td>NEW YORK</td>\n",
       "      <td>NEW YORK</td>\n",
       "      <td>-74.005941</td>\n",
       "      <td>40.712784</td>\n",
       "    </tr>\n",
       "    <tr>\n",
       "      <th>2</th>\n",
       "      <td>2643682</td>\n",
       "      <td>CERTIFIED</td>\n",
       "      <td>AFRENUSAINC</td>\n",
       "      <td>ENGINEERING MANAGERS</td>\n",
       "      <td>DRILLING MANAGER</td>\n",
       "      <td>Y</td>\n",
       "      <td>165506.0</td>\n",
       "      <td>2011</td>\n",
       "      <td>THE WOODLANDS, TEXAS</td>\n",
       "      <td>THE WOODLANDS</td>\n",
       "      <td>TEXAS</td>\n",
       "      <td>-95.461263</td>\n",
       "      <td>30.165821</td>\n",
       "    </tr>\n",
       "    <tr>\n",
       "      <th>3</th>\n",
       "      <td>2643683</td>\n",
       "      <td>CERTIFIED</td>\n",
       "      <td>BAINSIGHTLLC</td>\n",
       "      <td>COMPUTER SUPPORT SPECIALISTS</td>\n",
       "      <td>TECHNICAL SUPPORT ENGINEER</td>\n",
       "      <td>Y</td>\n",
       "      <td>62358.0</td>\n",
       "      <td>2011</td>\n",
       "      <td>BOSTON, MASSACHUSETTS</td>\n",
       "      <td>BOSTON</td>\n",
       "      <td>MASSACHUSETTS</td>\n",
       "      <td>-71.058880</td>\n",
       "      <td>42.360082</td>\n",
       "    </tr>\n",
       "    <tr>\n",
       "      <th>4</th>\n",
       "      <td>2643684</td>\n",
       "      <td>CERTIFIED</td>\n",
       "      <td>NIKEINC</td>\n",
       "      <td>MARKETING MANAGERS</td>\n",
       "      <td>SENIOR GLOBAL CATEGORY COMMERCE MANAGER</td>\n",
       "      <td>Y</td>\n",
       "      <td>111405.0</td>\n",
       "      <td>2011</td>\n",
       "      <td>BEAVERTON, OREGON</td>\n",
       "      <td>BEAVERTON</td>\n",
       "      <td>OREGON</td>\n",
       "      <td>-122.803710</td>\n",
       "      <td>45.487062</td>\n",
       "    </tr>\n",
       "    <tr>\n",
       "      <th>5</th>\n",
       "      <td>2643685</td>\n",
       "      <td>CERTIFIED</td>\n",
       "      <td>PENINSULAREGIONALMEDICALCENTER</td>\n",
       "      <td>PHYSICIANS AND SURGEONS, ALL OTHER</td>\n",
       "      <td>ENDOCRINOLOGIST</td>\n",
       "      <td>Y</td>\n",
       "      <td>99632.0</td>\n",
       "      <td>2011</td>\n",
       "      <td>SALISBURY, MARYLAND</td>\n",
       "      <td>SALISBURY</td>\n",
       "      <td>MARYLAND</td>\n",
       "      <td>-75.599369</td>\n",
       "      <td>38.360674</td>\n",
       "    </tr>\n",
       "  </tbody>\n",
       "</table>\n",
       "</div>"
      ],
      "text/plain": [
       "       Key CASE_STATUS                   EMPLOYER_NAME  \\\n",
       "0  2643680   CERTIFIED                        NYFIXINC   \n",
       "2  2643682   CERTIFIED                     AFRENUSAINC   \n",
       "3  2643683   CERTIFIED                    BAINSIGHTLLC   \n",
       "4  2643684   CERTIFIED                         NIKEINC   \n",
       "5  2643685   CERTIFIED  PENINSULAREGIONALMEDICALCENTER   \n",
       "\n",
       "                                    SOC_NAME  \\\n",
       "0  COMPUTER SOFTWARE ENGINEERS, APPLICATIONS   \n",
       "2                       ENGINEERING MANAGERS   \n",
       "3               COMPUTER SUPPORT SPECIALISTS   \n",
       "4                         MARKETING MANAGERS   \n",
       "5         PHYSICIANS AND SURGEONS, ALL OTHER   \n",
       "\n",
       "                                 JOB_TITLE FULL_TIME_POSITION  \\\n",
       "0                          PROJECT MANAGER                  Y   \n",
       "2                         DRILLING MANAGER                  Y   \n",
       "3               TECHNICAL SUPPORT ENGINEER                  Y   \n",
       "4  SENIOR GLOBAL CATEGORY COMMERCE MANAGER                  Y   \n",
       "5                          ENDOCRINOLOGIST                  Y   \n",
       "\n",
       "   PREVAILING_WAGE  YEAR               WORKSITE           CITY        COUNTRY  \\\n",
       "0         101088.0  2011     NEW YORK, NEW YORK       NEW YORK       NEW YORK   \n",
       "2         165506.0  2011   THE WOODLANDS, TEXAS  THE WOODLANDS          TEXAS   \n",
       "3          62358.0  2011  BOSTON, MASSACHUSETTS         BOSTON  MASSACHUSETTS   \n",
       "4         111405.0  2011      BEAVERTON, OREGON      BEAVERTON         OREGON   \n",
       "5          99632.0  2011    SALISBURY, MARYLAND      SALISBURY       MARYLAND   \n",
       "\n",
       "          lon        lat  \n",
       "0  -74.005941  40.712784  \n",
       "2  -95.461263  30.165821  \n",
       "3  -71.058880  42.360082  \n",
       "4 -122.803710  45.487062  \n",
       "5  -75.599369  38.360674  "
      ]
     },
     "execution_count": 14,
     "metadata": {},
     "output_type": "execute_result"
    }
   ],
   "source": [
    "Temp_dataframe.head(5)"
   ]
  },
  {
   "cell_type": "code",
   "execution_count": 15,
   "id": "frequent-paper",
   "metadata": {},
   "outputs": [
    {
     "data": {
      "text/plain": [
       "<AxesSubplot:title={'center':'CASE STATUS vs # OF PETITIONS \\n '}, xlabel='\\n CASE STATUS', ylabel='NUMBER OF PETITIONS \\n'>"
      ]
     },
     "execution_count": 15,
     "metadata": {},
     "output_type": "execute_result"
    },
    {
     "data": {
      "image/png": "[encoded data removed]",
      "text/plain": [
       "<Figure size 576x504 with 1 Axes>"
      ]
     },
     "metadata": {
      "needs_background": "light"
     },
     "output_type": "display_data"
    }
   ],
   "source": [
    "plot_status_petitions = Temp_dataframe['CASE_STATUS'].value_counts().plot(title = 'CASE STATUS vs # OF PETITIONS \\n ',kind = 'bar', color = 'purple', figsize = (8, 7))\n",
    "plot_status_petitions.set_xlabel(\"\\n CASE STATUS\")\n",
    "plot_status_petitions.set_ylabel(\"NUMBER OF PETITIONS \\n\")\n",
    "for p in plot_status_petitions.patches:\n",
    "    plot_status_petitions.annotate(str(p.get_height()), (p.get_x() * 1.0050, p.get_height() * 1.000))\n",
    "plot_status_petitions"
   ]
  },
  {
   "cell_type": "markdown",
   "id": "minimal-viewer",
   "metadata": {},
   "source": [
    "Analysis #2"
   ]
  },
  {
   "cell_type": "code",
   "execution_count": 16,
   "id": "accurate-dealer",
   "metadata": {},
   "outputs": [
    {
     "name": "stdout",
     "output_type": "stream",
     "text": [
      " Top 10 Employers filing for petition \n",
      " \n",
      "INFOSYSLIMITED                               26131\n",
      "IBMINDIAPRIVATELIMITED                       20480\n",
      "WIPROLIMITED                                 18795\n",
      "TATACONSULTANCYSERVICESLIMITED               17630\n",
      "DELOITTECONSULTINGLLP                        16113\n",
      "ACCENTURELLP                                 15275\n",
      "HCLAMERICAINC                                11884\n",
      "TECHMAHINDRAAMERICASINC                      10589\n",
      "IBMCORPORATION                                9511\n",
      "COGNIZANTTECHNOLOGYSOLUTIONSUSCORPORATION     8940\n",
      "Name: EMPLOYER_NAME, dtype: int64\n"
     ]
    },
    {
     "data": {
      "image/png": "[encoded data removed]",
      "text/plain": [
       "<Figure size 504x360 with 1 Axes>"
      ]
     },
     "metadata": {
      "needs_background": "light"
     },
     "output_type": "display_data"
    }
   ],
   "source": [
    "print(\" Top 10 Employers filing for petition \\n \")\n",
    "Top_employers_filing_for_petition= Temp_dataframe['EMPLOYER_NAME'].value_counts().head(10).plot.barh(title = \"Top 10 Employers Filing for Petition \\n\", \\\n",
    "                                                                 fontsize=12, color = 'purple',linewidth=2.0, figsize = (7, 5))\n",
    "Top_employers_filing_for_petition.set_ylabel(\"Employers \\n\",fontsize=13)\n",
    "Top_employers_filing_for_petition.set_xlabel(\"\\n Number of petitions\",fontsize=12)\n",
    "Top_employers_filing_for_petition\n",
    "print(dataframe1['EMPLOYER_NAME'].value_counts().head(10))\n"
   ]
  },
  {
   "cell_type": "markdown",
   "id": "congressional-millennium",
   "metadata": {},
   "source": [
    "Analysis #3"
   ]
  },
  {
   "cell_type": "code",
   "execution_count": 17,
   "id": "august-surgeon",
   "metadata": {},
   "outputs": [
    {
     "name": "stdout",
     "output_type": "stream",
     "text": [
      "Top 10 Positions in demand for H1B \n",
      "\n",
      "Computer Systems Analysts                    169812\n",
      "SOFTWARE DEVELOPERS, APPLICATIONS            135825\n",
      "Software Developers, Applications            134406\n",
      "Computer Programmers                         130575\n",
      "COMPUTER SYSTEMS ANALYSTS                    113342\n",
      "COMPUTER PROGRAMMERS                          78136\n",
      "COMPUTER OCCUPATIONS, ALL OTHER               61888\n",
      "Computer Occupations, All Other               42003\n",
      "Software Developers, Systems Software         30310\n",
      "Management Analysts                           28787\n",
      "Financial Analysts                            26655\n",
      "SOFTWARE DEVELOPERS, SYSTEMS SOFTWARE         25226\n",
      "Computer Software Engineers, Applications     24669\n",
      "Accountants and Auditors                      23243\n",
      "Mechanical Engineers                          20173\n",
      "Name: SOC_NAME, dtype: int64\n"
     ]
    },
    {
     "data": {
      "image/png": "[encoded data removed]",
      "text/plain": [
       "<Figure size 504x360 with 1 Axes>"
      ]
     },
     "metadata": {
      "needs_background": "light"
     },
     "output_type": "display_data"
    }
   ],
   "source": [
    "print(\"Top 10 Positions in demand for H1B \\n\")\n",
    "top10_occupation_demading_for_H1B= Temp_dataframe['SOC_NAME'].value_counts().head(15).plot.barh(title = \"Top 10 positions in Demand \\n\", \\\n",
    "                                                                 fontsize=12, color = 'purple',linewidth=2.0, figsize = (7, 5))\n",
    "top10_occupation_demading_for_H1B.set_ylabel(\"Occupation Name\\n \",fontsize=12)\n",
    "top10_occupation_demading_for_H1B.set_xlabel(\"\\n Number of Petitions\",fontsize=12)\n",
    "top10_occupation_demading_for_H1B\n",
    "print(dataframe1['SOC_NAME'].value_counts().head(15))"
   ]
  },
  {
   "cell_type": "markdown",
   "id": "spoken-newman",
   "metadata": {},
   "source": [
    "Analysis #4"
   ]
  },
  {
   "cell_type": "code",
   "execution_count": 18,
   "id": "waiting-network",
   "metadata": {},
   "outputs": [
    {
     "data": {
      "image/png": "[encoded data removed]",
      "text/plain": [
       "<Figure size 648x576 with 1 Axes>"
      ]
     },
     "metadata": {
      "needs_background": "light"
     },
     "output_type": "display_data"
    },
    {
     "data": {
      "image/png": "[encoded data removed]",
      "text/plain": [
       "<Figure size 648x576 with 1 Axes>"
      ]
     },
     "metadata": {
      "needs_background": "light"
     },
     "output_type": "display_data"
    },
    {
     "data": {
      "image/png": "[encoded data removed]",
      "text/plain": [
       "<Figure size 648x576 with 1 Axes>"
      ]
     },
     "metadata": {
      "needs_background": "light"
     },
     "output_type": "display_data"
    }
   ],
   "source": [
    "# Number of petitions evry year\n",
    "#without sorting\n",
    "yearwise_petition_plot=Temp_dataframe['YEAR'].value_counts().plot(title = \"H1-B Petitions per year \\n\",\\\n",
    "                                                                kind='bar', fontsize=12, color = 'purple',linewidth=5,figsize = (9,8))\n",
    "yearwise_petition_plot.set_xlabel('\\n FILING YEAR ')\n",
    "yearwise_petition_plot.set_ylabel(' NUMBER OF PETITIONS\\n')\n",
    "yearwise_petition_plot.tick_params(axis='x', which='major', labelsize=5)\n",
    "\n",
    "                                  \n",
    "#petition acceptance ratio per year\n",
    "yearwise_acceptance_plot = pd.DataFrame(Temp_dataframe[Temp_dataframe['CASE_STATUS'] == 'CERTIFIED'].YEAR.value_counts() / Temp_dataframe.YEAR.value_counts())\n",
    "yearwise_acceptance_plot = yearwise_acceptance_plot.sort_values(['YEAR'])\n",
    "yearwise_acceptance_plot = yearwise_acceptance_plot.plot(title = 'Yearwise H1-B Petitions acceptance \\n', kind = 'line', fontsize=12, color = 'purple',linewidth=5, figsize = (9, 8))\n",
    "yearwise_acceptance_plot.set_xlabel('\\nFILING YEAR')\n",
    "yearwise_acceptance_plot.set_ylabel('Petition ACCEPTANCE RATIO\\n')\n",
    "yearwise_petition_plot.tick_params(axis='x', which='major', labelsize=10)\n",
    "plt.show()\n",
    "\n",
    "#petition acceptance ratio per year\n",
    "yearwise_rejection_plot = pd.DataFrame(Temp_dataframe[Temp_dataframe['CASE_STATUS'] != 'CERTIFIED'].YEAR.value_counts() / Temp_dataframe.YEAR.value_counts())\n",
    "yearwise_rejection_plot = yearwise_rejection_plot.sort_values(['YEAR'])\n",
    "yearwise_rejection_plot = yearwise_rejection_plot.plot(title = 'Yearwise H1-B Petitions rejected/denied \\n', kind = 'line', fontsize=12, color = 'purple',linewidth=5, figsize = (9, 8))\n",
    "yearwise_rejection_plot.set_xlabel('\\nFILING YEAR')\n",
    "yearwise_rejection_plot.set_ylabel('Petition rejected/denied RATIO\\n')\n",
    "yearwise_rejection_plot.tick_params(axis='x', which='major', labelsize=10)\n",
    "plt.show()"
   ]
  },
  {
   "cell_type": "markdown",
   "id": "psychological-trustee",
   "metadata": {},
   "source": [
    "Analysis #5"
   ]
  },
  {
   "cell_type": "code",
   "execution_count": 19,
   "id": "secure-corner",
   "metadata": {},
   "outputs": [
    {
     "data": {
      "image/png": "[encoded data removed]",
      "text/plain": [
       "<Figure size 576x504 with 1 Axes>"
      ]
     },
     "metadata": {
      "needs_background": "light"
     },
     "output_type": "display_data"
    },
    {
     "data": {
      "text/plain": [
       "<AxesSubplot:title={'center':'Yearwise Median Salary of employees\\n'}, xlabel='\\n PETITION FILING YEAR', ylabel='MEDiAN SALARY OF EMPLOYEES\\n'>"
      ]
     },
     "execution_count": 19,
     "metadata": {},
     "output_type": "execute_result"
    }
   ],
   "source": [
    "# Median salary per year\n",
    "Salary_vs_year = Temp_dataframe.loc[:,['PREVAILING_WAGE', 'YEAR']].groupby(['YEAR']).agg(['median'])\n",
    "\n",
    "Salary_vs_year = Salary_vs_year.plot(title='Yearwise Median Salary of employees\\n',kind = 'bar', color = 'purple', legend = None, figsize = (8, 7))\n",
    "Salary_vs_year.set_xlabel('\\n PETITION FILING YEAR')\n",
    "Salary_vs_year.set_ylabel('MEDiAN SALARY OF EMPLOYEES\\n')\n",
    "plt.show()\n",
    "Salary_vs_year"
   ]
  },
  {
   "cell_type": "markdown",
   "id": "considerable-austin",
   "metadata": {},
   "source": [
    "# Feature Encoding"
   ]
  },
  {
   "cell_type": "markdown",
   "id": "popular-chapel",
   "metadata": {},
   "source": [
    "# Filter to keep only  'CERTIFIED' or 'DECLINED' case status"
   ]
  },
  {
   "cell_type": "code",
   "execution_count": 20,
   "id": "historical-garlic",
   "metadata": {},
   "outputs": [
    {
     "name": "stdout",
     "output_type": "stream",
     "text": [
      "['CERTIFIED' 'DENIED' 'REJECTED']\n",
      "['CERTIFIED' 'DENIED']\n"
     ]
    }
   ],
   "source": [
    "print(Temp_dataframe['CASE_STATUS'].unique())\n",
    "Temp_dataframe = Temp_dataframe.loc[Temp_dataframe['CASE_STATUS'].isin([\"CERTIFIED\", \"DENIED\"])] #filtering\n",
    "print(Temp_dataframe['CASE_STATUS'].unique())"
   ]
  },
  {
   "cell_type": "code",
   "execution_count": 21,
   "id": "senior-archive",
   "metadata": {},
   "outputs": [
    {
     "data": {
      "text/plain": [
       "Key                   0\n",
       "CASE_STATUS           0\n",
       "EMPLOYER_NAME         0\n",
       "SOC_NAME              0\n",
       "JOB_TITLE             0\n",
       "FULL_TIME_POSITION    0\n",
       "PREVAILING_WAGE       0\n",
       "YEAR                  0\n",
       "WORKSITE              0\n",
       "CITY                  0\n",
       "COUNTRY               0\n",
       "lon                   0\n",
       "lat                   0\n",
       "dtype: int64"
      ]
     },
     "execution_count": 21,
     "metadata": {},
     "output_type": "execute_result"
    }
   ],
   "source": [
    "Temp_dataframe.isnull().sum(axis = 0)"
   ]
  },
  {
   "cell_type": "code",
   "execution_count": 22,
   "id": "convenient-stability",
   "metadata": {},
   "outputs": [
    {
     "name": "stdout",
     "output_type": "stream",
     "text": [
      "(1726708, 13)\n",
      "(1726708, 13)\n"
     ]
    }
   ],
   "source": [
    "Temp_dataframe1 = Temp_dataframe\n",
    "print(Temp_dataframe.shape)\n",
    "print(Temp_dataframe1.shape)"
   ]
  },
  {
   "cell_type": "code",
   "execution_count": 23,
   "id": "applicable-firewall",
   "metadata": {},
   "outputs": [
    {
     "data": {
      "text/plain": [
       "CERTIFIED    1650982\n",
       "DENIED         75726\n",
       "Name: CASE_STATUS, dtype: int64"
      ]
     },
     "execution_count": 23,
     "metadata": {},
     "output_type": "execute_result"
    }
   ],
   "source": [
    "Temp_dataframe1.CASE_STATUS.value_counts()"
   ]
  },
  {
   "cell_type": "code",
   "execution_count": 24,
   "id": "according-leonard",
   "metadata": {},
   "outputs": [],
   "source": [
    "Temp_dataframe1_denied = Temp_dataframe1[Temp_dataframe1['CASE_STATUS'] == 'DENIED']"
   ]
  },
  {
   "cell_type": "code",
   "execution_count": 25,
   "id": "piano-tuner",
   "metadata": {},
   "outputs": [],
   "source": [
    "Temp_dataframe1_certified = Temp_dataframe1[Temp_dataframe1['CASE_STATUS'] == 'CERTIFIED']"
   ]
  },
  {
   "cell_type": "code",
   "execution_count": 26,
   "id": "statutory-cradle",
   "metadata": {
    "scrolled": true
   },
   "outputs": [],
   "source": [
    "Input_Certified, Input_Certified_extra, y_certified, y_certified_extra = \\\n",
    "train_test_split(Temp_dataframe1[Temp_dataframe1.CASE_STATUS == 'CERTIFIED'],Temp_dataframe1_certified.CASE_STATUS, train_size= 0.06, random_state=1)"
   ]
  },
  {
   "cell_type": "code",
   "execution_count": 27,
   "id": "advanced-guide",
   "metadata": {},
   "outputs": [],
   "source": [
    "training_df = Input_Certified.append(Temp_dataframe1_denied)"
   ]
  },
  {
   "cell_type": "code",
   "execution_count": 28,
   "id": "conservative-storage",
   "metadata": {},
   "outputs": [
    {
     "data": {
      "image/png": "[encoded data removed]",
      "text/plain": [
       "<Figure size 432x288 with 1 Axes>"
      ]
     },
     "metadata": {
      "needs_background": "light"
     },
     "output_type": "display_data"
    }
   ],
   "source": [
    "## plot the distribution of the certified and denied samples after downsampling\n",
    "plot_after_ds = training_df['CASE_STATUS'].value_counts().plot(title = 'CASE STATUS vs NUMBER OF PETITIONS', \\\n",
    "                                                                kind = 'bar', color = 'purple')\n",
    "plot_after_ds.set_xlabel(\"CASE STATUS\")\n",
    "plot_after_ds.set_ylabel(\"NUMBER OF PETITIONS\")\n",
    "for p in plot_after_ds.patches:\n",
    "    plot_after_ds.annotate(str(p.get_height()), (p.get_x() * 1.0050, p.get_height() * 1.005))\n",
    "plt.show()"
   ]
  },
  {
   "cell_type": "markdown",
   "id": "rocky-registrar",
   "metadata": {},
   "source": [
    "#converting the categorical data into numerical categories, This is achieved by identifying the unique values of the columns"
   ]
  },
  {
   "cell_type": "code",
   "execution_count": 39,
   "id": "lucky-clarity",
   "metadata": {},
   "outputs": [
    {
     "name": "stdout",
     "output_type": "stream",
     "text": [
      "Dataframe with confirmed or denied cases :\n",
      " \n",
      "*******************************************\n",
      "<class 'pandas.core.frame.DataFrame'>\n",
      "Int64Index: 174784 entries, 1060556 to 1956649\n",
      "Data columns (total 13 columns):\n",
      " #   Column              Non-Null Count   Dtype  \n",
      "---  ------              --------------   -----  \n",
      " 0   Key                 174784 non-null  int64  \n",
      " 1   CASE_STATUS         174784 non-null  object \n",
      " 2   EMPLOYER_NAME       174784 non-null  object \n",
      " 3   SOC_NAME            174784 non-null  object \n",
      " 4   JOB_TITLE           174784 non-null  object \n",
      " 5   FULL_TIME_POSITION  174784 non-null  object \n",
      " 6   PREVAILING_WAGE     174784 non-null  float64\n",
      " 7   YEAR                174784 non-null  int32  \n",
      " 8   WORKSITE            174784 non-null  object \n",
      " 9   CITY                174784 non-null  object \n",
      " 10  COUNTRY             174784 non-null  object \n",
      " 11  lon                 174784 non-null  float64\n",
      " 12  lat                 174784 non-null  float64\n",
      "dtypes: float64(3), int32(1), int64(1), object(8)\n",
      "memory usage: 12.7+ MB\n",
      "None\n",
      "*******************************************\n",
      "Unique values count of each columns :\n",
      "\n",
      "Case Status  2\n",
      "Unique Employers  65633\n",
      "Unique SOCs  924\n",
      "Unique Job Titles  48121\n",
      "Unique Employment Type  2\n",
      "Prevailing Wages  22598\n",
      "Unique Year  6\n",
      "Unique Worksite State  2467\n",
      "Unique CITY State  2148\n",
      "Unique COUNTRY State  52\n"
     ]
    }
   ],
   "source": [
    "# one-hot encoding for every possible and needed column\n",
    "print(\"Dataframe with confirmed or denied cases :\\n \")\n",
    "print(\"*******************************************\")\n",
    "print(training_df.info())\n",
    "print(\"*******************************************\")\n",
    "print(\"Unique values count of each columns :\\n\")\n",
    "print(\"Case Status \",training_df.CASE_STATUS.nunique())\n",
    "print(\"Unique Employers \",training_df.EMPLOYER_NAME.nunique())\n",
    "print(\"Unique SOCs \", training_df.SOC_NAME.nunique())\n",
    "print(\"Unique Job Titles \",training_df.JOB_TITLE.nunique())\n",
    "print(\"Unique Employment Type \", training_df.FULL_TIME_POSITION.nunique())\n",
    "print(\"Prevailing Wages \",training_df.PREVAILING_WAGE.nunique())\n",
    "print(\"Unique Year \",training_df.YEAR.nunique())\n",
    "print(\"Unique Worksite State \",training_df.WORKSITE.nunique())\n",
    "print(\"Unique CITY State \",training_df.CITY.nunique())\n",
    "print(\"Unique COUNTRY State \",training_df.COUNTRY.nunique())\n"
   ]
  },
  {
   "cell_type": "markdown",
   "id": "fitting-nation",
   "metadata": {},
   "source": [
    "# Categorzing the Features"
   ]
  },
  {
   "cell_type": "code",
   "execution_count": 48,
   "id": "blond-people",
   "metadata": {},
   "outputs": [],
   "source": [
    "def Prevailing_wage_categorization(prevailing_wage):\n",
    "    if prevailing_wage <=50000:\n",
    "        return \"VERY LOW\"\n",
    "    elif prevailing_wage >50000 and prevailing_wage <= 70000:\n",
    "        return \"LOW\"\n",
    "    elif prevailing_wage >70000 and prevailing_wage <= 90000:\n",
    "        return \"MEDIUM\"\n",
    "    elif prevailing_wage >90000 and prevailing_wage<=150000:\n",
    "        return \"HIGH\"\n",
    "    elif prevailing_wage >=150000:\n",
    "        return \"VERY HIGH\"\n",
    "    \n",
    "def Grant_status_Categorization(acceptance_ratio):\n",
    "    if acceptance_ratio == -1:\n",
    "        return \"AR\"\n",
    "    elif acceptance_ratio >=0.0 and acceptance_ratio<0.20:\n",
    "        return \"VLA\"\n",
    "    elif acceptance_ratio>=0.20 and acceptance_ratio<0.40:\n",
    "        return \"LA\"\n",
    "    elif acceptance_ratio>=0.40 and acceptance_ratio<0.60:\n",
    "        return \"MA\"\n",
    "    elif acceptance_ratio>=0.60 and acceptance_ratio<0.80:\n",
    "        return \"HA\"\n",
    "    elif acceptance_ratio>=0.80:\n",
    "        return \"VHA\"\n",
    "def worksite_collector(worksite):\n",
    "    return worksite.split(', ')[1]"
   ]
  },
  {
   "cell_type": "markdown",
   "id": "hazardous-beach",
   "metadata": {},
   "source": [
    "Feature Creation, One Hot Encoding to convert the categorical field for wage, employer, soc and job"
   ]
  },
  {
   "cell_type": "code",
   "execution_count": 45,
   "id": "anonymous-plain",
   "metadata": {},
   "outputs": [
    {
     "data": {
      "text/plain": [
       "array(['OREGON', 'MICHIGAN', 'NEW YORK', 'CALIFORNIA', 'COLORADO',\n",
       "       'VIRGINIA', 'FLORIDA', 'TEXAS', 'ILLINOIS', 'NORTH CAROLINA',\n",
       "       'MASSACHUSETTS', 'WISCONSIN', 'SOUTH CAROLINA', 'GEORGIA', 'OHIO',\n",
       "       'NEW JERSEY', 'ALABAMA', 'PENNSYLVANIA', 'DISTRICT OF COLUMBIA',\n",
       "       'TENNESSEE', 'KANSAS', 'KENTUCKY', 'MINNESOTA', 'WASHINGTON',\n",
       "       'CONNECTICUT', 'INDIANA', 'UTAH', 'MISSOURI', 'ARKANSAS',\n",
       "       'MARYLAND', 'LOUISIANA', 'RHODE ISLAND', 'ARIZONA', 'IDAHO',\n",
       "       'IOWA', 'NEW HAMPSHIRE', 'OKLAHOMA', 'DELAWARE', 'NEBRASKA',\n",
       "       'MISSISSIPPI', 'NEVADA', 'WEST VIRGINIA', 'HAWAII', 'NEW MEXICO',\n",
       "       'NORTH DAKOTA', 'ALASKA', 'SOUTH DAKOTA', 'MONTANA', 'MAINE',\n",
       "       'PUERTO RICO', 'VERMONT', 'WYOMING'], dtype=object)"
      ]
     },
     "execution_count": 45,
     "metadata": {},
     "output_type": "execute_result"
    }
   ],
   "source": [
    "training_df['WORKSITE'] = training_df['WORKSITE'].apply(worksite_collector)\n",
    "training_df.WORKSITE.unique()"
   ]
  },
  {
   "cell_type": "code",
   "execution_count": 59,
   "id": "champion-louis",
   "metadata": {},
   "outputs": [
    {
     "data": {
      "text/plain": [
       "1060556         LOW\n",
       "1227325         LOW\n",
       "1042292    VERY LOW\n",
       "1301161      MEDIUM\n",
       "1016565      MEDIUM\n",
       "             ...   \n",
       "1956621    VERY LOW\n",
       "1956628        HIGH\n",
       "1956636    VERY LOW\n",
       "1956647    VERY LOW\n",
       "1956649    VERY LOW\n",
       "Name: PREVAILING_WAGE_CATEGORY, Length: 174784, dtype: object"
      ]
     },
     "execution_count": 59,
     "metadata": {},
     "output_type": "execute_result"
    }
   ],
   "source": [
    "training_df['PREVAILING_WAGE_CATEGORY'] = training_df['PREVAILING_WAGE'].apply(Prevailing_wage_categorization)\n",
    "training_df['PREVAILING_WAGE_CATEGORY']"
   ]
  },
  {
   "cell_type": "code",
   "execution_count": 60,
   "id": "dominican-absolute",
   "metadata": {},
   "outputs": [
    {
     "name": "stdout",
     "output_type": "stream",
     "text": [
      "                                     EMPLOYER_NAME CASE_STATUS\n",
      "1060556                               ACCENTURELLP   CERTIFIED\n",
      "1227325                     ALTAIRPRODUCTDESIGNINC   CERTIFIED\n",
      "1042292  STATEUNIVERSITYOFNEWYORKTHECOLLEGEATOLDWE   CERTIFIED\n",
      "1301161             TATACONSULTANCYSERVICESLIMITED   CERTIFIED\n",
      "1016565                  PARTNERSHIPHEALTHPLANOFCA   CERTIFIED\n",
      "...                                            ...         ...\n",
      "1956621                          STEVENSTRUCKINGCO      DENIED\n",
      "1956628                                  TEAMFISCH      DENIED\n",
      "1956636                  SOARINGAMERICACORPORATION      DENIED\n",
      "1956647          MORANTTRANSPORTATIONINDUSTRIESINC      DENIED\n",
      "1956649                       AIRINTERNATIONALELLC      DENIED\n",
      "\n",
      "[174784 rows x 2 columns]\n"
     ]
    }
   ],
   "source": [
    "employer_tdf = training_df.loc[:,['EMPLOYER_NAME', 'CASE_STATUS']]\n",
    "soc_tdf = training_df.loc[:,['SOC_NAME', 'CASE_STATUS']]\n",
    "job_tdf = training_df.loc[:,['JOB_TITLE', 'CASE_STATUS']]\n",
    "print(employer_tdf)"
   ]
  },
  {
   "cell_type": "code",
   "execution_count": 51,
   "id": "polyphonic-casting",
   "metadata": {},
   "outputs": [],
   "source": [
    "certified_employer_tdf = employer_tdf[employer_tdf.CASE_STATUS == 'CERTIFIED'].EMPLOYER_NAME\n",
    "certified_soc_tdf = soc_tdf[soc_tdf.CASE_STATUS == 'CERTIFIED'].SOC_NAME\n",
    "certified_job_tdf = job_tdf[job_tdf.CASE_STATUS == 'CERTIFIED'].JOB_TITLE\n",
    "confirmed_employer_count = certified_employer_tdf.value_counts()\n",
    "confirmed_SOC_count = certified_soc_tdf.value_counts()\n",
    "confirmed_job_count = certified_job_tdf.value_counts()"
   ]
  },
  {
   "cell_type": "code",
   "execution_count": 53,
   "id": "after-richards",
   "metadata": {},
   "outputs": [],
   "source": [
    "total_employer_counts = employer_tdf.EMPLOYER_NAME.value_counts()\n",
    "total_soc_counts = soc_tdf.SOC_NAME.value_counts()\n",
    "total_job_counts = job_tdf.JOB_TITLE.value_counts()"
   ]
  },
  {
   "cell_type": "code",
   "execution_count": 55,
   "id": "similar-picture",
   "metadata": {},
   "outputs": [],
   "source": [
    "ratio_final = confirmed_employer_count / total_employer_counts\n",
    "ratio_final.fillna(-1, inplace=True)\n",
    "employer_classification_final = ratio_final.apply(Grant_status_Categorization)\n",
    "training_df['EMPLOYER_ACCEPTANCE'] = training_df.EMPLOYER_NAME.map(employer_classification_final)"
   ]
  },
  {
   "cell_type": "code",
   "execution_count": 56,
   "id": "sexual-afternoon",
   "metadata": {},
   "outputs": [],
   "source": [
    "ratio_final_soc = confirmed_SOC_count / total_soc_counts\n",
    "ratio_final_soc.fillna(-1, inplace=True)\n",
    "soc_classification_final = ratio_final_soc.apply(Grant_status_Categorization)\n",
    "training_df['SOC_ACCEPTANCE'] = training_df.SOC_NAME.map(soc_classification_final)"
   ]
  },
  {
   "cell_type": "code",
   "execution_count": 57,
   "id": "overall-transaction",
   "metadata": {},
   "outputs": [],
   "source": [
    "ratio_final_job = confirmed_job_count / total_job_counts\n",
    "ratio_final_job.fillna(-1, inplace=True)\n",
    "job_classification_final = ratio_final_job.apply(Grant_status_Categorization)\n",
    "training_df['JOB_ACCEPTANCE'] = training_df.JOB_TITLE.map(job_classification_final)"
   ]
  },
  {
   "cell_type": "code",
   "execution_count": 65,
   "id": "sophisticated-cursor",
   "metadata": {},
   "outputs": [
    {
     "name": "stdout",
     "output_type": "stream",
     "text": [
      "*******************************************\n",
      "Unique values count of each columns :\n",
      "\n",
      "Case Status  2\n",
      "Unique Employers  6\n",
      "Wages Category 5\n",
      "Unique SOCs  6\n",
      "Unique Job Titles  6\n",
      "Unique Filing Year  6\n",
      "Unique Worksite State  52\n",
      "Unique Employment Type  2\n",
      "*******************************************\n",
      "<class 'pandas.core.frame.DataFrame'>\n",
      "Int64Index: 174784 entries, 1060556 to 1956649\n",
      "Data columns (total 17 columns):\n",
      " #   Column                    Non-Null Count   Dtype  \n",
      "---  ------                    --------------   -----  \n",
      " 0   Key                       174784 non-null  int64  \n",
      " 1   CASE_STATUS               174784 non-null  object \n",
      " 2   EMPLOYER_NAME             174784 non-null  object \n",
      " 3   SOC_NAME                  174784 non-null  object \n",
      " 4   JOB_TITLE                 174784 non-null  object \n",
      " 5   FULL_TIME_POSITION        174784 non-null  object \n",
      " 6   PREVAILING_WAGE           174784 non-null  float64\n",
      " 7   YEAR                      174784 non-null  int32  \n",
      " 8   WORKSITE                  174784 non-null  object \n",
      " 9   CITY                      174784 non-null  object \n",
      " 10  COUNTRY                   174784 non-null  object \n",
      " 11  lon                       174784 non-null  float64\n",
      " 12  lat                       174784 non-null  float64\n",
      " 13  PREVAILING_WAGE_CATEGORY  174784 non-null  object \n",
      " 14  EMPLOYER_ACCEPTANCE       174784 non-null  object \n",
      " 15  SOC_ACCEPTANCE            174784 non-null  object \n",
      " 16  JOB_ACCEPTANCE            174784 non-null  object \n",
      "dtypes: float64(3), int32(1), int64(1), object(12)\n",
      "memory usage: 15.3+ MB\n"
     ]
    }
   ],
   "source": [
    "print(\"*******************************************\")\n",
    "print(\"Unique values count of each columns :\\n\")\n",
    "print(\"Case Status \",training_df.CASE_STATUS.nunique())\n",
    "print(\"Unique Employers \",training_df.EMPLOYER_ACCEPTANCE.nunique())\n",
    "print(\"Wages Category\", training_df.PREVAILING_WAGE_CATEGORY.nunique())\n",
    "print(\"Unique SOCs \", training_df.SOC_ACCEPTANCE.nunique())\n",
    "print(\"Unique Job Titles \",training_df.JOB_ACCEPTANCE.nunique())\n",
    "print(\"Unique Filing Year \",training_df.YEAR.nunique())\n",
    "print(\"Unique Worksite State \",training_df.WORKSITE.nunique())\n",
    "print(\"Unique Employment Type \", training_df.FULL_TIME_POSITION.nunique())\n",
    "print(\"*******************************************\")\n",
    "training_df.info()"
   ]
  },
  {
   "cell_type": "code",
   "execution_count": 66,
   "id": "swedish-funds",
   "metadata": {},
   "outputs": [],
   "source": [
    "case_status_dict = {\"CERTIFIED\" : 1, \"DENIED\": 0}\n",
    "full_time_position_dict = {\"Y\" : 1, \"N\" : 0}\n",
    "try:    \n",
    "    training_df['CASE_STATUS'] = training_df['CASE_STATUS'].apply(lambda x: case_status_dict[x])\n",
    "    training_df['FULL_TIME_POSITION'] = training_df['FULL_TIME_POSITION'].apply(lambda x: full_time_position_dict[x])\n",
    "except:\n",
    "    pass"
   ]
  },
  {
   "cell_type": "code",
   "execution_count": 68,
   "id": "satisfied-trace",
   "metadata": {},
   "outputs": [
    {
     "data": {
      "text/html": [
       "<div>\n",
       "<style scoped>\n",
       "    .dataframe tbody tr th:only-of-type {\n",
       "        vertical-align: middle;\n",
       "    }\n",
       "\n",
       "    .dataframe tbody tr th {\n",
       "        vertical-align: top;\n",
       "    }\n",
       "\n",
       "    .dataframe thead th {\n",
       "        text-align: right;\n",
       "    }\n",
       "</style>\n",
       "<table border=\"1\" class=\"dataframe\">\n",
       "  <thead>\n",
       "    <tr style=\"text-align: right;\">\n",
       "      <th></th>\n",
       "      <th>CASE_STATUS</th>\n",
       "      <th>YEAR</th>\n",
       "      <th>WORKSITE</th>\n",
       "      <th>PREVAILING_WAGE_CATEGORY</th>\n",
       "      <th>EMPLOYER_ACCEPTANCE</th>\n",
       "      <th>JOB_ACCEPTANCE</th>\n",
       "      <th>SOC_ACCEPTANCE</th>\n",
       "      <th>FULL_TIME_POSITION</th>\n",
       "    </tr>\n",
       "  </thead>\n",
       "  <tbody>\n",
       "    <tr>\n",
       "      <th>17</th>\n",
       "      <td>0</td>\n",
       "      <td>2011</td>\n",
       "      <td>OHIO</td>\n",
       "      <td>VERY HIGH</td>\n",
       "      <td>HA</td>\n",
       "      <td>AR</td>\n",
       "      <td>LA</td>\n",
       "      <td>1</td>\n",
       "    </tr>\n",
       "    <tr>\n",
       "      <th>28</th>\n",
       "      <td>0</td>\n",
       "      <td>2011</td>\n",
       "      <td>NEW YORK</td>\n",
       "      <td>VERY HIGH</td>\n",
       "      <td>HA</td>\n",
       "      <td>MA</td>\n",
       "      <td>MA</td>\n",
       "      <td>1</td>\n",
       "    </tr>\n",
       "    <tr>\n",
       "      <th>47</th>\n",
       "      <td>1</td>\n",
       "      <td>2011</td>\n",
       "      <td>DISTRICT OF COLUMBIA</td>\n",
       "      <td>MEDIUM</td>\n",
       "      <td>VHA</td>\n",
       "      <td>VHA</td>\n",
       "      <td>VLA</td>\n",
       "      <td>1</td>\n",
       "    </tr>\n",
       "    <tr>\n",
       "      <th>48</th>\n",
       "      <td>0</td>\n",
       "      <td>2011</td>\n",
       "      <td>OHIO</td>\n",
       "      <td>LOW</td>\n",
       "      <td>AR</td>\n",
       "      <td>MA</td>\n",
       "      <td>MA</td>\n",
       "      <td>1</td>\n",
       "    </tr>\n",
       "    <tr>\n",
       "      <th>51</th>\n",
       "      <td>1</td>\n",
       "      <td>2011</td>\n",
       "      <td>WASHINGTON</td>\n",
       "      <td>HIGH</td>\n",
       "      <td>HA</td>\n",
       "      <td>VHA</td>\n",
       "      <td>MA</td>\n",
       "      <td>1</td>\n",
       "    </tr>\n",
       "  </tbody>\n",
       "</table>\n",
       "</div>"
      ],
      "text/plain": [
       "    CASE_STATUS  YEAR              WORKSITE PREVAILING_WAGE_CATEGORY  \\\n",
       "17            0  2011                  OHIO                VERY HIGH   \n",
       "28            0  2011              NEW YORK                VERY HIGH   \n",
       "47            1  2011  DISTRICT OF COLUMBIA                   MEDIUM   \n",
       "48            0  2011                  OHIO                      LOW   \n",
       "51            1  2011            WASHINGTON                     HIGH   \n",
       "\n",
       "   EMPLOYER_ACCEPTANCE JOB_ACCEPTANCE SOC_ACCEPTANCE  FULL_TIME_POSITION  \n",
       "17                  HA             AR             LA                   1  \n",
       "28                  HA             MA             MA                   1  \n",
       "47                 VHA            VHA            VLA                   1  \n",
       "48                  AR             MA             MA                   1  \n",
       "51                  HA            VHA             MA                   1  "
      ]
     },
     "execution_count": 68,
     "metadata": {},
     "output_type": "execute_result"
    }
   ],
   "source": [
    "training_df['YEAR'] = training_df['YEAR'].astype('int')\n",
    "training_df.sort_index(inplace = True)\n",
    "training_df = training_df.loc[:, ['CASE_STATUS', 'YEAR','WORKSITE', 'PREVAILING_WAGE_CATEGORY','EMPLOYER_ACCEPTANCE',\\\n",
    "                                  'JOB_ACCEPTANCE', 'SOC_ACCEPTANCE', 'FULL_TIME_POSITION']]\n",
    "training_df.head()"
   ]
  },
  {
   "cell_type": "code",
   "execution_count": null,
   "id": "suffering-helmet",
   "metadata": {},
   "outputs": [],
   "source": [
    "Step 10: Apply One-hot encoding"
   ]
  }
 ],
 "metadata": {
  "kernelspec": {
   "display_name": "Python 3",
   "language": "python",
   "name": "python3"
  },
  "language_info": {
   "codemirror_mode": {
    "name": "ipython",
    "version": 3
   },
   "file_extension": ".py",
   "mimetype": "text/x-python",
   "name": "python",
   "nbconvert_exporter": "python",
   "pygments_lexer": "ipython3",
   "version": "3.8.3"
  }
 },
 "nbformat": 4,
 "nbformat_minor": 5
}
